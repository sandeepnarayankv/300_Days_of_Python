{
 "cells": [
  {
   "cell_type": "code",
   "execution_count": 1,
   "id": "4d62b4b3",
   "metadata": {},
   "outputs": [],
   "source": [
    "import PyPDF2"
   ]
  },
  {
   "cell_type": "code",
   "execution_count": 12,
   "id": "4fab3492",
   "metadata": {},
   "outputs": [
    {
     "name": "stdout",
     "output_type": "stream",
     "text": [
      "1\n",
      "{'/Type': '/Page', '/Parent': IndirectObject(4, 0), '/Resources': IndirectObject(11, 0), '/MediaBox': [0, 0, 595, 842], '/Group': {'/S': '/Transparency', '/CS': '/DeviceRGB', '/I': <PyPDF2.generic.BooleanObject object at 0x000001DB804C2190>}, '/Contents': IndirectObject(2, 0), '/Rotate': 180}\n"
     ]
    }
   ],
   "source": [
    "with open('dummy.pdf', 'rb') as f:\n",
    "    reader = PyPDF2.PdfFileReader(f)\n",
    "    print(reader.numPages)\n",
    "    page = reader.getPage(0)\n",
    "    page.rotateClockwise(180)\n",
    "    print(page)\n",
    "    writer = PyPDF2.PdfFileWriter()\n",
    "    writer.addPage(page)\n",
    "    with open('tilt.pdf', 'wb') as new_f:\n",
    "        writer.write(new_f)\n",
    "        "
   ]
  },
  {
   "cell_type": "code",
   "execution_count": 20,
   "id": "716bd79e",
   "metadata": {},
   "outputs": [
    {
     "name": "stdout",
     "output_type": "stream",
     "text": [
      "C:\\Users\\sande\\OneDrive\\Desktop\\Projects\\Python_Proj\\300_Days_of_Python\\pdf\n"
     ]
    }
   ],
   "source": [
    "import os\n",
    "path = os.getcwd()\n",
    "print(path)\n",
    "merger = PyPDF2.PdfFileMerger()\n",
    "for root, dirs, files in os.walk(path):\n",
    "    for f in files:\n",
    "        if '.pdf' == f[-4:]:\n",
    "            merger.append(f)\n",
    "            \n",
    "merger.write('super.pdf')            "
   ]
  },
  {
   "cell_type": "code",
   "execution_count": 34,
   "id": "d9d300e7",
   "metadata": {},
   "outputs": [],
   "source": [
    "pdf_writer = PyPDF2.PdfFileWriter()\n",
    "with open('super.pdf', 'rb') as file:\n",
    "    pdf = PyPDF2.PdfFileReader(file)\n",
    "    with open('wtr.pdf', 'rb') as wtr:\n",
    "        watermark = PyPDF2.PdfFileReader(wtr)        \n",
    "        for i in range(pdf.numPages):\n",
    "            wtrmk = watermark.getPage(0)\n",
    "            page = pdf.getPage(i)\n",
    "            page.mergePage(wtrmk)\n",
    "            pdf_writer.addPage(page)\n",
    "            with open('super_wtr.pdf', 'wb') as new:\n",
    "                pdf_writer.write(new)           "
   ]
  }
 ],
 "metadata": {
  "kernelspec": {
   "display_name": "Python 3 (ipykernel)",
   "language": "python",
   "name": "python3"
  },
  "language_info": {
   "codemirror_mode": {
    "name": "ipython",
    "version": 3
   },
   "file_extension": ".py",
   "mimetype": "text/x-python",
   "name": "python",
   "nbconvert_exporter": "python",
   "pygments_lexer": "ipython3",
   "version": "3.9.7"
  }
 },
 "nbformat": 4,
 "nbformat_minor": 5
}
