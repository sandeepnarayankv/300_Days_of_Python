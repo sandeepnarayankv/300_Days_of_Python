{
 "cells": [
  {
   "cell_type": "markdown",
   "id": "faf4ba50",
   "metadata": {},
   "source": [
    "# Question 65\n",
    "\n",
    "> **_Please write assert statements to verify that every number in the list [2,4,6,8] is even._**\n"
   ]
  },
  {
   "cell_type": "code",
   "execution_count": 7,
   "id": "365fc861",
   "metadata": {},
   "outputs": [
    {
     "name": "stdout",
     "output_type": "stream",
     "text": [
      "All elements in list are even\n"
     ]
    }
   ],
   "source": [
    "l = [2,4,6,8, 10]\n",
    "try:\n",
    "    for i in l:\n",
    "        assert not i%2\n",
    "except:\n",
    "    print('All elements in list are not even')\n",
    "else:\n",
    "    print('All elements in list are even')"
   ]
  },
  {
   "cell_type": "markdown",
   "id": "92f2a48a",
   "metadata": {},
   "source": [
    "# Question 66\n",
    "\n",
    "> **_Please write a program which accepts basic mathematic expression from console and print the evaluation result._**\n",
    "\n",
    "> **_Example:\n",
    "> If the following n is given as input to the program:_**\n",
    "\n",
    "```\n",
    "35 + 3\n",
    "```\n",
    "\n",
    "> **_Then, the output of the program should be:_**\n",
    "\n",
    "```\n",
    "38\n",
    "```\n",
    "\n",
    "---\n",
    "\n",
    "### Hints\n",
    "\n",
    "> **_Use eval() to evaluate an expression._**"
   ]
  },
  {
   "cell_type": "code",
   "execution_count": 10,
   "id": "eb0ec948",
   "metadata": {},
   "outputs": [
    {
     "name": "stdout",
     "output_type": "stream",
     "text": [
      "Enter an expression: 99*101\n",
      "9999\n"
     ]
    }
   ],
   "source": [
    "print(eval(input('Enter an expression: ')))"
   ]
  },
  {
   "cell_type": "markdown",
   "id": "41135bc6",
   "metadata": {},
   "source": [
    "# Question 67\n",
    "\n",
    "> **_Please write a binary search function which searches an item in a sorted list. The function should return the index of element to be searched in the list._**"
   ]
  },
  {
   "cell_type": "code",
   "execution_count": 27,
   "id": "3cd4a714",
   "metadata": {},
   "outputs": [
    {
     "name": "stdout",
     "output_type": "stream",
     "text": [
      "Enter the No: 4\n",
      "The index of 4 in [2, 3, 4, 10, 40, 60] is 2 and position is 3\n"
     ]
    }
   ],
   "source": [
    "li = [2, 3, 4, 10, 40, 60]\n",
    "\n",
    "\n",
    "def binary_search(li, s):\n",
    "    l = 0\n",
    "    h = len(li)\n",
    "    while True:\n",
    "        m = (l+h)//2\n",
    "        if s == li[m]:\n",
    "            break\n",
    "        elif s > li[m]:\n",
    "            l = m\n",
    "        elif s < li[m]:\n",
    "           h = m \n",
    "        else:\n",
    "            pass\n",
    "\n",
    "    return m\n",
    "s = int(input('Enter the No: '))\n",
    "idx = binary_search(li, s)\n",
    "print(f'The index of {s} in {li} is {idx} and position is {idx+1}')        "
   ]
  },
  {
   "cell_type": "markdown",
   "id": "b7676497",
   "metadata": {},
   "source": [
    "# Question 68\n",
    "\n",
    "> **_Please generate a random float where the value is between 10 and 100 using Python module._**\n"
   ]
  },
  {
   "cell_type": "code",
   "execution_count": 229,
   "id": "ffbd4109",
   "metadata": {},
   "outputs": [
    {
     "name": "stdout",
     "output_type": "stream",
     "text": [
      "Random Float between 10, 100 is 86.18082486724632\n",
      "Another Random Float between 10, 100 is 54.11861028289355\n"
     ]
    }
   ],
   "source": [
    "import random as r\n",
    "while True:\n",
    "    rf = r.randint(10,100)*r.random()\n",
    "    if rf > 10 and rf <100:\n",
    "        break\n",
    "print(f'Random Float between 10, 100 is {rf}')\n",
    "rand_num = r.uniform(10,100)\n",
    "print(f'Another Random Float between 10, 100 is {rand_num}')"
   ]
  },
  {
   "cell_type": "code",
   "execution_count": 230,
   "id": "e8783634",
   "metadata": {},
   "outputs": [
    {
     "name": "stdout",
     "output_type": "stream",
     "text": [
      "Help on method uniform in module random:\n",
      "\n",
      "uniform(a, b) method of random.Random instance\n",
      "    Get a random number in the range [a, b) or [a, b] depending on rounding.\n",
      "\n"
     ]
    }
   ],
   "source": [
    "help(r.uniform)"
   ]
  },
  {
   "cell_type": "markdown",
   "id": "89c6f531",
   "metadata": {},
   "source": [
    "# Question 69\n",
    "\n",
    "> **_Please generate a random float where the value is between 5 and 95 using Python module._**"
   ]
  },
  {
   "cell_type": "code",
   "execution_count": 231,
   "id": "5f23d251",
   "metadata": {},
   "outputs": [
    {
     "name": "stdout",
     "output_type": "stream",
     "text": [
      "Random Float between 5, 95 is 34.10537266158103\n"
     ]
    }
   ],
   "source": [
    "import random as r\n",
    "rand_num = r.uniform(5,95)\n",
    "print(f'Random Float between 5, 95 is {rand_num}')"
   ]
  },
  {
   "cell_type": "markdown",
   "id": "09489518",
   "metadata": {},
   "source": [
    "# Question 70\n",
    "\n",
    "> **_Please write a program to output a random even number between 0 and 10 inclusive using random module and list comprehension._**\n"
   ]
  },
  {
   "cell_type": "code",
   "execution_count": 268,
   "id": "79f0822d",
   "metadata": {},
   "outputs": [
    {
     "name": "stdout",
     "output_type": "stream",
     "text": [
      "8\n"
     ]
    }
   ],
   "source": [
    "from random import choice\n",
    "l = [x for x in range(0, 11, 2)]\n",
    "print(choice(l))"
   ]
  },
  {
   "cell_type": "markdown",
   "id": "95f75e43",
   "metadata": {},
   "source": [
    "# Question 71\n",
    "\n",
    "> **_Please write a program to output a random number, which is divisible by 5 and 7, between 10 and 150 inclusive using random module and list comprehension._**\n"
   ]
  },
  {
   "cell_type": "code",
   "execution_count": 297,
   "id": "9ababc59",
   "metadata": {},
   "outputs": [
    {
     "name": "stdout",
     "output_type": "stream",
     "text": [
      "35\n"
     ]
    }
   ],
   "source": [
    "from random import choice\n",
    "l = [x for x in range(0, 151) if not x%7 and not x%5]\n",
    "print(choice(l))"
   ]
  },
  {
   "cell_type": "markdown",
   "id": "6a895fd6",
   "metadata": {},
   "source": [
    "# Question 72\n",
    "\n",
    "> **_Please write a program to generate a list with 5 random numbers between 100 and 200 inclusive._**\n",
    "---\n",
    "\n",
    "### Hints\n",
    "\n",
    "> **_Use random.sample() to generate a list of random values._**"
   ]
  },
  {
   "cell_type": "code",
   "execution_count": 309,
   "id": "2e1cd734",
   "metadata": {},
   "outputs": [
    {
     "name": "stdout",
     "output_type": "stream",
     "text": [
      "[163, 122, 176, 162, 128]\n"
     ]
    }
   ],
   "source": [
    "from random import sample\n",
    "print(sample(range(100, 200), k=5))"
   ]
  },
  {
   "cell_type": "markdown",
   "id": "7cd782ea",
   "metadata": {},
   "source": [
    "# Question 73\n",
    "\n",
    "> **_Please write a program to randomly generate a list with 5 even numbers between 100 and 200 inclusive._**"
   ]
  },
  {
   "cell_type": "code",
   "execution_count": 310,
   "id": "896cfb9c",
   "metadata": {},
   "outputs": [
    {
     "name": "stdout",
     "output_type": "stream",
     "text": [
      "[154, 170, 100, 130, 148]\n"
     ]
    }
   ],
   "source": [
    "from random import sample\n",
    "print(sample(range(100, 201, 2), k=5))"
   ]
  },
  {
   "cell_type": "markdown",
   "id": "ba1ff1c5",
   "metadata": {},
   "source": [
    "# Question 74\n",
    "\n",
    "> **_Please write a program to randomly generate a list with 5 numbers, which are divisible by 5 and 7 , between 1 and 1000 inclusive._**"
   ]
  },
  {
   "cell_type": "code",
   "execution_count": 311,
   "id": "6a3c8269",
   "metadata": {},
   "outputs": [
    {
     "name": "stdout",
     "output_type": "stream",
     "text": [
      "[665, 980, 350, 560, 140]\n"
     ]
    }
   ],
   "source": [
    "from random import sample\n",
    "print(sample([i for i in range(1, 1001) if i%7 == 0 and i%5 == 0], k=5))"
   ]
  },
  {
   "cell_type": "markdown",
   "id": "baa13f59",
   "metadata": {},
   "source": [
    "# Question 75\n",
    "\n",
    "> **_Please write a program to randomly print a integer number between 7 and 15 inclusive._**\n"
   ]
  },
  {
   "cell_type": "code",
   "execution_count": 340,
   "id": "dd7b4e88",
   "metadata": {},
   "outputs": [
    {
     "name": "stdout",
     "output_type": "stream",
     "text": [
      "15\n"
     ]
    }
   ],
   "source": [
    "from random import randint\n",
    "print(randint(7, 15))"
   ]
  },
  {
   "cell_type": "markdown",
   "id": "042429fa",
   "metadata": {},
   "source": [
    "# Question 76\n",
    "\n",
    "> **_Please write a program to compress and decompress the string \"hello world!hello world!hello world!hello world!\"._**\n",
    "\n",
    "---\n",
    "\n",
    "### Hints\n",
    "\n",
    "> **_Use zlib.compress() and zlib.decompress() to compress and decompress a string._**\n"
   ]
  },
  {
   "cell_type": "code",
   "execution_count": 373,
   "id": "3999287c",
   "metadata": {},
   "outputs": [
    {
     "name": "stdout",
     "output_type": "stream",
     "text": [
      "b'x\\x9c\\xcbH\\xcd\\xc9\\xc9W(\\xcf/\\xcaIQ\\xcc \\x82\\r\\x00\\xbd[\\x11\\xf5'\n",
      "b'hello world!hello world!hello world!hello world!'\n"
     ]
    }
   ],
   "source": [
    "import zlib\n",
    "c = zlib.compress(\"hello world!hello world!hello world!hello world!\".encode('utf-8'))\n",
    "print(c)\n",
    "d = zlib.decompress(c)\n",
    "print(d)"
   ]
  },
  {
   "cell_type": "markdown",
   "id": "e30b69e8",
   "metadata": {},
   "source": [
    "# Question 77\n",
    "> **_Please write a program to print the running time of execution of \"1+1\" for 100 times._**"
   ]
  },
  {
   "cell_type": "code",
   "execution_count": 436,
   "id": "29103041",
   "metadata": {},
   "outputs": [
    {
     "name": "stdout",
     "output_type": "stream",
     "text": [
      "Total time taken in :  add_nos 0.014000892639160156\n"
     ]
    }
   ],
   "source": [
    "def calctime_dec(func):\n",
    "    def wrapper_calctime(*args, **kwargs):\n",
    "        import time\n",
    "        ts = time.time()\n",
    "        for _ in range(100000):\n",
    "            func(*args, **kwargs)\n",
    "        te = time.time()\n",
    "        \n",
    "        print(\"Total time taken in : \", func.__name__, te - ts)\n",
    "    return wrapper_calctime\n",
    "\n",
    "@calctime_dec\n",
    "def add_nos():\n",
    "    d = 1+1\n",
    "\n",
    "add_nos()\n",
    "    "
   ]
  },
  {
   "cell_type": "markdown",
   "id": "f686442a",
   "metadata": {},
   "source": [
    "# Question 78\n",
    "\n",
    "> **_Please write a program to shuffle and print the list [3,6,7,8]._**"
   ]
  },
  {
   "cell_type": "code",
   "execution_count": 444,
   "id": "4bf39fc3",
   "metadata": {},
   "outputs": [
    {
     "name": "stdout",
     "output_type": "stream",
     "text": [
      "[7, 3, 6, 8]\n"
     ]
    }
   ],
   "source": [
    "import random as r\n",
    "li = [3,6,7,8]\n",
    "r.shuffle(li)\n",
    "print(li)"
   ]
  },
  {
   "cell_type": "markdown",
   "id": "1c8132a8",
   "metadata": {},
   "source": [
    "# Question 79\n",
    "\n",
    "> **_Please write a program to generate all sentences where subject is in [\"I\", \"You\"] and verb is in [\"Play\", \"Love\"] and the object is in [\"Hockey\",\"Football\"]._**\n",
    "\n",
    "---\n",
    "\n",
    "### Hints\n",
    "\n",
    "> **_Use list[index] notation to get a element from a list._**\n"
   ]
  },
  {
   "cell_type": "code",
   "execution_count": 445,
   "id": "da9b2223",
   "metadata": {},
   "outputs": [
    {
     "name": "stdout",
     "output_type": "stream",
     "text": [
      "I Play Hockey\n",
      "I Play Football\n",
      "I Love Hockey\n",
      "I Love Football\n",
      "You Play Hockey\n",
      "You Play Football\n",
      "You Love Hockey\n",
      "You Love Football\n"
     ]
    }
   ],
   "source": [
    "subject = [\"I\", \"You\"]\n",
    "verb = [\"Play\", \"Love\"]\n",
    "obj = [\"Hockey\",\"Football\"]\n",
    "\n",
    "for s in subject:\n",
    "    for v in verb:\n",
    "        for o in obj:\n",
    "            print (f'{s} {v} {o}')"
   ]
  },
  {
   "cell_type": "markdown",
   "id": "b2ecb022",
   "metadata": {},
   "source": [
    "# Question 80\n",
    "\n",
    "> **_Please write a program to print the list after removing even numbers in [5,6,77,45,22,12,24]._**"
   ]
  },
  {
   "cell_type": "code",
   "execution_count": 446,
   "id": "d3be18b2",
   "metadata": {},
   "outputs": [
    {
     "name": "stdout",
     "output_type": "stream",
     "text": [
      "[5, 77, 45]\n"
     ]
    }
   ],
   "source": [
    "odd = lambda x: x%2\n",
    "li = [5,6,77,45,22,12,24]\n",
    "print(list(filter(odd, li)))"
   ]
  },
  {
   "cell_type": "markdown",
   "id": "9638eceb",
   "metadata": {},
   "source": [
    "# Question 81\n",
    "\n",
    "> **_By using list comprehension, please write a program to print the list after removing numbers which are divisible by 5 and 7 in [12,24,35,70,88,120,155]._**\n"
   ]
  },
  {
   "cell_type": "code",
   "execution_count": 447,
   "id": "4c10cde5",
   "metadata": {},
   "outputs": [
    {
     "name": "stdout",
     "output_type": "stream",
     "text": [
      "[12, 24, 88]\n"
     ]
    }
   ],
   "source": [
    "li = [12,24,35,70,88,120,155]\n",
    "print([i for i in li if i%7 != 0 and i%5 != 0])"
   ]
  },
  {
   "cell_type": "markdown",
   "id": "6638e79d",
   "metadata": {},
   "source": [
    "# Question 82\n",
    "\n",
    "> **_By using list comprehension, please write a program to print the list after removing the 0th, 2nd, 4th,6th numbers in [12,24,35,70,88,120,155]._**"
   ]
  },
  {
   "cell_type": "code",
   "execution_count": 450,
   "id": "615c9bde",
   "metadata": {},
   "outputs": [
    {
     "name": "stdout",
     "output_type": "stream",
     "text": [
      "[24, 70, 120]\n"
     ]
    }
   ],
   "source": [
    "li = [12,24,35,70,88,120,155]\n",
    "print([i for i in li if li.index(i)%2 != 0])"
   ]
  },
  {
   "cell_type": "code",
   "execution_count": 452,
   "id": "5888ae57",
   "metadata": {},
   "outputs": [
    {
     "name": "stdout",
     "output_type": "stream",
     "text": [
      "[24, 70, 120]\n"
     ]
    }
   ],
   "source": [
    "# solution 2\n",
    "li = [12,24,35,70,88,120,155]\n",
    "print([v for (i, v) in enumerate(li) if i%2 != 0 and i<=6])"
   ]
  },
  {
   "cell_type": "markdown",
   "id": "6d37cf34",
   "metadata": {},
   "source": [
    "# Question 83\n",
    "\n",
    "> **_By using list comprehension, please write a program to print the list after removing the 2nd - 4th numbers in [12,24,35,70,88,120,155]._**"
   ]
  },
  {
   "cell_type": "code",
   "execution_count": 459,
   "id": "0397006f",
   "metadata": {},
   "outputs": [
    {
     "name": "stdout",
     "output_type": "stream",
     "text": [
      "[12, 88, 120, 155]\n"
     ]
    }
   ],
   "source": [
    "li = [12,24,35,70,88,120,155]\n",
    "print([v for (i, v) in enumerate(li) if i not in range(1, 4)])"
   ]
  },
  {
   "cell_type": "markdown",
   "id": "dc79a598",
   "metadata": {},
   "source": [
    "# Question 84\n",
    "\n",
    "> **_By using list comprehension, please write a program generate a 3\\*5\\*8 3D array whose each element is 0._**"
   ]
  },
  {
   "cell_type": "code",
   "execution_count": 465,
   "id": "9592eee8",
   "metadata": {},
   "outputs": [
    {
     "name": "stdout",
     "output_type": "stream",
     "text": [
      "[[[0, 0, 0, 0, 0, 0, 0, 0], [0, 0, 0, 0, 0, 0, 0, 0], [0, 0, 0, 0, 0, 0, 0, 0], [0, 0, 0, 0, 0, 0, 0, 0], [0, 0, 0, 0, 0, 0, 0, 0]], [[0, 0, 0, 0, 0, 0, 0, 0], [0, 0, 0, 0, 0, 0, 0, 0], [0, 0, 0, 0, 0, 0, 0, 0], [0, 0, 0, 0, 0, 0, 0, 0], [0, 0, 0, 0, 0, 0, 0, 0]], [[0, 0, 0, 0, 0, 0, 0, 0], [0, 0, 0, 0, 0, 0, 0, 0], [0, 0, 0, 0, 0, 0, 0, 0], [0, 0, 0, 0, 0, 0, 0, 0], [0, 0, 0, 0, 0, 0, 0, 0]]]\n"
     ]
    }
   ],
   "source": [
    "li = [[[0 for x in range(8)] for y in range(5)] for z in range(3)]\n",
    "print(li)"
   ]
  }
 ],
 "metadata": {
  "kernelspec": {
   "display_name": "Python 3 (ipykernel)",
   "language": "python",
   "name": "python3"
  },
  "language_info": {
   "codemirror_mode": {
    "name": "ipython",
    "version": 3
   },
   "file_extension": ".py",
   "mimetype": "text/x-python",
   "name": "python",
   "nbconvert_exporter": "python",
   "pygments_lexer": "ipython3",
   "version": "3.9.7"
  }
 },
 "nbformat": 4,
 "nbformat_minor": 5
}
