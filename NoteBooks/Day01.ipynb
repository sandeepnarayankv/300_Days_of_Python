{
 "cells": [
  {
   "cell_type": "markdown",
   "id": "d6cb4fa1",
   "metadata": {},
   "source": [
    "# Question 1\n",
    "\n",
    "Write a program which will find all such numbers which are divisible by 7 but are not a multiple of 5, between 2000 and 3200 (both included).The numbers obtained should be printed in a comma-separated sequence on a single line."
   ]
  },
  {
   "cell_type": "code",
   "execution_count": 91,
   "id": "b83b6d26",
   "metadata": {},
   "outputs": [
    {
     "name": "stdout",
     "output_type": "stream",
     "text": [
      "2002, 2009, 2016, 2023, 2037, 2044, 2051, 2058, 2072, 2079, 2086, 2093, 2107, 2114, 2121, 2128, 2142, 2149, 2156, 2163, 2177, 2184, 2191, 2198, 2212, 2219, 2226, 2233, 2247, 2254, 2261, 2268, 2282, 2289, 2296, 2303, 2317, 2324, 2331, 2338, 2352, 2359, 2366, 2373, 2387, 2394, 2401, 2408, 2422, 2429, 2436, 2443, 2457, 2464, 2471, 2478, 2492, 2499, 2506, 2513, 2527, 2534, 2541, 2548, 2562, 2569, 2576, 2583, 2597, 2604, 2611, 2618, 2632, 2639, 2646, 2653, 2667, 2674, 2681, 2688, 2702, 2709, 2716, 2723, 2737, 2744, 2751, 2758, 2772, 2779, 2786, 2793, 2807, 2814, 2821, 2828, 2842, 2849, 2856, 2863, 2877, 2884, 2891, 2898, 2912, 2919, 2926, 2933, 2947, 2954, 2961, 2968, 2982, 2989, 2996, 3003, 3017, 3024, 3031, 3038, 3052, 3059, 3066, 3073, 3087, 3094, 3101, 3108, 3122, 3129, 3136, 3143, 3157, 3164, 3171, 3178, 3192, 3199"
     ]
    }
   ],
   "source": [
    "def div_7_not_5 (start, end):\n",
    "    nums = list()\n",
    "    for i in range(start, end+1):\n",
    "        if i%7 == 0 and i%5 != 0:\n",
    "            nums.append(i)\n",
    "    return nums\n",
    "\n",
    "nums = div_7_not_5 (2000, 3200)\n",
    "_ = 1\n",
    "for i in nums:\n",
    "    print (i, end = '')\n",
    "    _+=1\n",
    "    if _<= len(nums):\n",
    "        print(', ', end = '')"
   ]
  },
  {
   "cell_type": "markdown",
   "id": "1a8338b0",
   "metadata": {},
   "source": [
    "# Question 2\n",
    "\n",
    "Write a program which can compute the factorial of a given numbers.The results should be printed in a comma-separated sequence on a single line.Suppose the following input is supplied to the program: 8 Then, the output should be:40320"
   ]
  },
  {
   "cell_type": "code",
   "execution_count": 92,
   "id": "6bd60966",
   "metadata": {},
   "outputs": [
    {
     "name": "stdout",
     "output_type": "stream",
     "text": [
      "362880\n"
     ]
    }
   ],
   "source": [
    "def factorial(n):\n",
    "    if n == 0:\n",
    "        return 1\n",
    "    elif n > 0:\n",
    "        return n*factorial(n-1)\n",
    "    else:\n",
    "        raise ValueError('Please provide Valid 0 or +ve Integers')\n",
    "    \n",
    "try:\n",
    "    print(factorial(9))\n",
    "except ValueError as exc:\n",
    "    print('Invalid Input')\n",
    "    print(exc)"
   ]
  },
  {
   "cell_type": "markdown",
   "id": "be2e514f",
   "metadata": {},
   "source": [
    "# Question 3\n",
    "With a given integral number n, write a program to generate a dictionary that contains (i, i x i) such that is an integral number between 1 and n (both included). and then the program should print the dictionary.Suppose the following input is supplied to the program: 8\n",
    "\n",
    "Then, the output should be:\n",
    "```\n",
    "{1: 1, 2: 4, 3: 9, 4: 16, 5: 25, 6: 36, 7: 49, 8: 64}\n",
    "```"
   ]
  },
  {
   "cell_type": "code",
   "execution_count": 93,
   "id": "df50817a",
   "metadata": {},
   "outputs": [
    {
     "name": "stdout",
     "output_type": "stream",
     "text": [
      "{1: 1, 2: 4, 3: 9, 4: 16, 5: 25, 6: 36, 7: 49, 8: 64}\n"
     ]
    }
   ],
   "source": [
    "squares = lambda x: {k:k*k for k in range (1, x+1)}\n",
    "\n",
    "print(squares(8))"
   ]
  },
  {
   "cell_type": "markdown",
   "id": "f6dfa7e1",
   "metadata": {},
   "source": [
    "# Question 4\n",
    "Write a program which accepts a sequence of comma-separated numbers from console and generate a list and a tuple which contains every number.Suppose the following input is supplied to the program:\n",
    "```\n",
    "34,67,55,33,12,98\n",
    "```\n",
    "\n",
    "Then, the output should be:\n",
    "\n",
    "```\n",
    "['34', '67', '55', '33', '12', '98']\n",
    "('34', '67', '55', '33', '12', '98')\n",
    "```"
   ]
  },
  {
   "cell_type": "code",
   "execution_count": 94,
   "id": "7c54c8c2",
   "metadata": {},
   "outputs": [
    {
     "name": "stdout",
     "output_type": "stream",
     "text": [
      "Please enter a list of comma seperated numbers: 34,67,55,33,12,98\n",
      "['34', '67', '55', '33', '12', '98']\n",
      "('34', '67', '55', '33', '12', '98')\n"
     ]
    }
   ],
   "source": [
    "s = input('Please enter a list of comma seperated numbers: ')\n",
    "\n",
    "l = s.split(',')\n",
    "t = tuple(l)\n",
    "print(l)\n",
    "print(t)"
   ]
  },
  {
   "cell_type": "markdown",
   "id": "b88b5f40",
   "metadata": {},
   "source": [
    "# Question 5\n",
    "\n",
    "#### Define a class which has at least two methods:\n",
    "getString: to get a string from console input.\n",
    "\n",
    "printString: to print the string in upper case.\n",
    "\n",
    "##### Also please include simple test function to test the class methods."
   ]
  },
  {
   "cell_type": "code",
   "execution_count": 95,
   "id": "83584951",
   "metadata": {},
   "outputs": [
    {
     "name": "stdout",
     "output_type": "stream",
     "text": [
      "Enter a String: i love python\n",
      "I LOVE PYTHON\n"
     ]
    }
   ],
   "source": [
    "class StrOps():\n",
    "    def __init__(self):\n",
    "        self.s = ''\n",
    "    \n",
    "    def getString(self):\n",
    "        self.s = input('Enter a String: ')\n",
    "    \n",
    "    def printString(self):\n",
    "        print(self.s.upper())\n",
    "        \n",
    "my_str = StrOps()\n",
    "\n",
    "my_str.getString()\n",
    "my_str.printString()"
   ]
  },
  {
   "cell_type": "markdown",
   "id": "108d8edc",
   "metadata": {},
   "source": [
    "# Question 6\n",
    "\n",
    "Write a program that calculates and prints the value according to the given formula:\n",
    "\n",
    "#### Q = Square root of [(2 C D)/H]\n",
    "\n",
    "Following are the fixed values of C and H:\n",
    "\n",
    "#### C is 50. H is 30.\n",
    "\n",
    "D is the variable whose values should be input to your program in a comma-separated sequence.For example Let us assume the following comma separated input sequence is given to the program:\n",
    "```\n",
    "100,150,180\n",
    "```\n",
    "\n",
    "The output of the program should be:\n",
    "\n",
    "```\n",
    "18,22,24\n",
    "```"
   ]
  },
  {
   "cell_type": "code",
   "execution_count": 96,
   "id": "e8fe9241",
   "metadata": {},
   "outputs": [
    {
     "name": "stdout",
     "output_type": "stream",
     "text": [
      "Please enter a list of comma seperated numbers: 100,150,180\n",
      "18,22,24\n"
     ]
    }
   ],
   "source": [
    "q = lambda C,H,D: [str(int(((2*C*d)/H)**0.5)) for d in D]\n",
    "\n",
    "s = input('Please enter a list of comma seperated numbers: ')\n",
    "l = [int(x) for x in s.split(',')]\n",
    "\n",
    "print(','.join(q(50, 30, l)))"
   ]
  },
  {
   "cell_type": "markdown",
   "id": "a13dc90b",
   "metadata": {},
   "source": [
    "# Question 7\n",
    "\n",
    "_Write a program which takes 2 digits, X,Y as input and generates a 2-dimensional array. The element value in the i-th row and j-th column of the array should be i _ j.*\n",
    "\n",
    "###### Note: i=0,1.., X-1; j=0,1,¡­Y-1. Suppose the following inputs are given to the program: 3,5\n",
    "\n",
    "Then, the output of the program should be:\n",
    "```\n",
    "[[0, 0, 0, 0, 0], [0, 1, 2, 3, 4], [0, 2, 4, 6, 8]]\n",
    "```"
   ]
  },
  {
   "cell_type": "code",
   "execution_count": 97,
   "id": "9154a362",
   "metadata": {},
   "outputs": [
    {
     "name": "stdout",
     "output_type": "stream",
     "text": [
      "Please enter two comma seperated numbers: 3, 5\n",
      "[[0, 0, 0, 0, 0], [0, 1, 2, 3, 4], [0, 2, 4, 6, 8]]\n"
     ]
    }
   ],
   "source": [
    "s = input('Please enter two comma seperated numbers: ')\n",
    "ip = [int(i) for i in s.split(',')]\n",
    "array = list()\n",
    "for i in range(ip[0]):\n",
    "    row = list()\n",
    "    for j in range(ip[1]):\n",
    "        row.append(i*j)\n",
    "    array.append(row)\n",
    "print(array)"
   ]
  },
  {
   "cell_type": "markdown",
   "id": "5778df48",
   "metadata": {},
   "source": [
    "# Question 8\n",
    "\n",
    "Write a program that accepts a comma separated sequence of words as input and prints the words in a comma-separated sequence after sorting them alphabetically.\n",
    "\n",
    "Suppose the following input is supplied to the program:\n",
    "```\n",
    "without,hello,bag,world\n",
    "```\n",
    "Then, the output should be:\n",
    "```\n",
    "bag,hello,without,world\n",
    "```"
   ]
  },
  {
   "cell_type": "code",
   "execution_count": 98,
   "id": "16dd7cdd",
   "metadata": {},
   "outputs": [
    {
     "name": "stdout",
     "output_type": "stream",
     "text": [
      "Please enter a list of comma seperated words: without,hello,bag,world\n",
      "bag,hello,without,world\n"
     ]
    }
   ],
   "source": [
    "s = input('Please enter a list of comma seperated words: ').split(',')\n",
    "s.sort()\n",
    "print(','.join(s))"
   ]
  },
  {
   "cell_type": "markdown",
   "id": "3e5fba5c",
   "metadata": {},
   "source": [
    "# Question 9\n",
    "\n",
    "Write a program that accepts sequence of lines as input and prints the lines after making all characters in the sentence capitalized.\n",
    "\n",
    "Suppose the following input is supplied to the program:\n",
    "```\n",
    "Hello world\n",
    "Practice makes perfect\n",
    "```\n",
    "Then, the output should be:\n",
    "```\n",
    "HELLO WORLD\n",
    "PRACTICE MAKES PERFECT\n",
    "```"
   ]
  },
  {
   "cell_type": "code",
   "execution_count": 99,
   "id": "1d00e941",
   "metadata": {},
   "outputs": [
    {
     "name": "stdout",
     "output_type": "stream",
     "text": [
      "Enter a String (Press enter to end): Hello world\n",
      "Enter a String (Press enter to end): Practice makes perfect\n",
      "Enter a String (Press enter to end): \n",
      "HELLO WORLD\n",
      "PRACTICE MAKES PERFECT\n"
     ]
    }
   ],
   "source": [
    "ls = list()\n",
    "while True:\n",
    "    s = input('Enter a String (Press enter to end): ')\n",
    "    if s == '':\n",
    "        break\n",
    "    else:\n",
    "        ls.append(s)\n",
    "\n",
    "for s in ls:\n",
    "    print(s.upper())"
   ]
  },
  {
   "cell_type": "markdown",
   "id": "55db867e",
   "metadata": {},
   "source": [
    "# Question 10\n",
    "\n",
    "Write a program that accepts a sequence of whitespace separated words as input and prints the words after removing all duplicate words and sorting them alphanumerically.\n",
    "\n",
    "Suppose the following input is supplied to the program:\n",
    "```\n",
    "hello world and practice makes perfect and hello world again\n",
    "```\n",
    "\n",
    "Then, the output should be:\n",
    "```\n",
    "again and hello makes perfect practice world\n",
    "```"
   ]
  },
  {
   "cell_type": "code",
   "execution_count": 100,
   "id": "da6c21ba",
   "metadata": {},
   "outputs": [
    {
     "name": "stdout",
     "output_type": "stream",
     "text": [
      "Please enter two white space seperated words: hello world and practice makes perfect and hello world again\n",
      "again and hello makes perfect practice world\n"
     ]
    }
   ],
   "source": [
    "s = ' '.join(sorted(list(set(input('Please enter two white space seperated words: ').split()))))\n",
    "print(s)"
   ]
  },
  {
   "cell_type": "markdown",
   "id": "0f61ef03",
   "metadata": {},
   "source": [
    "# Question 11\n",
    "\n",
    "Write a program which accepts a sequence of comma separated 4 digit binary numbers as its input and then check whether they are divisible by 5 or not. The numbers that are divisible by 5 are to be printed in a comma separated sequence.\n",
    "\n",
    "Example:\n",
    "```\n",
    "0100,0011,1010,1001\n",
    "```\n",
    "Then the output should be:\n",
    "```\n",
    "1010\n",
    "```"
   ]
  },
  {
   "cell_type": "code",
   "execution_count": 101,
   "id": "0e1e493d",
   "metadata": {},
   "outputs": [
    {
     "name": "stdout",
     "output_type": "stream",
     "text": [
      "Please enter two comma seperated binary numbers: 0100,0011,1010,1001\n",
      "1010\n"
     ]
    }
   ],
   "source": [
    "s = input('Please enter two comma seperated binary numbers: ').split(',')\n",
    "div5 = list()\n",
    "for b in s:\n",
    "    if int(b, 2)%5==0:\n",
    "        div5.append(b)\n",
    "\n",
    "print(','.join(div5))"
   ]
  },
  {
   "cell_type": "code",
   "execution_count": 102,
   "id": "635acc64",
   "metadata": {},
   "outputs": [
    {
     "name": "stdout",
     "output_type": "stream",
     "text": [
      "Please enter two comma seperated binary numbers: 0100,0011,1010,1001\n",
      "1010\n"
     ]
    }
   ],
   "source": [
    "def check(b):\n",
    "    return int(b,2)%5 == 0\n",
    "\n",
    "s = input('Please enter two comma seperated binary numbers: ').split(',')\n",
    "\n",
    "l = list(filter(check, s))\n",
    "\n",
    "print(','.join(div5))"
   ]
  },
  {
   "cell_type": "markdown",
   "id": "ffead351",
   "metadata": {},
   "source": [
    "# Question 12\n",
    "\n",
    "Write a program, which will find all such numbers between 1000 and 3000 (both included) such that each digit of the number is an even number.The numbers obtained should be printed in a comma-separated sequence on a single line."
   ]
  },
  {
   "cell_type": "code",
   "execution_count": 103,
   "id": "59b8fb53",
   "metadata": {},
   "outputs": [
    {
     "name": "stdout",
     "output_type": "stream",
     "text": [
      "2000,2002,2004,2006,2008,2020,2022,2024,2026,2028,2040,2042,2044,2046,2048,2060,2062,2064,2066,2068,2080,2082,2084,2086,2088,2200,2202,2204,2206,2208,2220,2222,2224,2226,2228,2240,2242,2244,2246,2248,2260,2262,2264,2266,2268,2280,2282,2284,2286,2288,2400,2402,2404,2406,2408,2420,2422,2424,2426,2428,2440,2442,2444,2446,2448,2460,2462,2464,2466,2468,2480,2482,2484,2486,2488,2600,2602,2604,2606,2608,2620,2622,2624,2626,2628,2640,2642,2644,2646,2648,2660,2662,2664,2666,2668,2680,2682,2684,2686,2688,2800,2802,2804,2806,2808,2820,2822,2824,2826,2828,2840,2842,2844,2846,2848,2860,2862,2864,2866,2868,2880,2882,2884,2886,2888\n"
     ]
    }
   ],
   "source": [
    "check_even = lambda x: all(ord(j)%2 == 0 for j in str(x))\n",
    "    \n",
    "\n",
    "def even_digits(start, end):\n",
    "    l = list(map(str, filter(check_even, range(start, end+1))))\n",
    "    print(','.join(l))\n",
    "    \n",
    "even_digits(1000, 3000)"
   ]
  },
  {
   "cell_type": "markdown",
   "id": "9b9c1455",
   "metadata": {},
   "source": [
    "# Question 13\n",
    "\n",
    "Write a program that accepts a sentence and calculate the number of letters and digits.\n",
    "\n",
    "Suppose the following input is supplied to the program:\n",
    "```\n",
    "hello world! 123\n",
    "```\n",
    "\n",
    "Then, the output should be:\n",
    "```\n",
    "LETTERS 10\n",
    "DIGITS 3\n",
    "```"
   ]
  },
  {
   "cell_type": "code",
   "execution_count": 104,
   "id": "9481437e",
   "metadata": {},
   "outputs": [
    {
     "name": "stdout",
     "output_type": "stream",
     "text": [
      "Enter a String: hello world! 123\n",
      "LETTERS 10\n",
      "DIGITS 3\n"
     ]
    }
   ],
   "source": [
    "s = input('Enter a String: ')\n",
    "letters = 0\n",
    "digits = 0\n",
    "for c in s:\n",
    "    if c.isalpha():\n",
    "        letters += 1\n",
    "    elif c.isdigit():\n",
    "        digits += 1\n",
    "    else:\n",
    "        pass\n",
    "\n",
    "print(f'LETTERS {letters}')\n",
    "print(f'DIGITS {digits}')"
   ]
  },
  {
   "cell_type": "markdown",
   "id": "34e49ee7",
   "metadata": {},
   "source": [
    "# Question 14\n",
    "Write a program that accepts a sentence and calculate the number of upper case letters and lower case letters.\n",
    "\n",
    "Suppose the following input is supplied to the program:\n",
    "```\n",
    "Hello world!\n",
    "```\n",
    "Then, the output should be:\n",
    "```\n",
    "UPPER CASE 1\n",
    "LOWER CASE 9\n",
    "```"
   ]
  },
  {
   "cell_type": "code",
   "execution_count": 107,
   "id": "374a48ec",
   "metadata": {
    "scrolled": true
   },
   "outputs": [
    {
     "name": "stdout",
     "output_type": "stream",
     "text": [
      "Enter a String: Hello world! 123\n",
      "UPPER 1\n",
      "LOWER 9\n"
     ]
    }
   ],
   "source": [
    "s = input('Enter a String: ')\n",
    "upper = 0\n",
    "lower = 0\n",
    "for c in s:\n",
    "    if c.isupper():\n",
    "        upper += 1\n",
    "    elif c.islower():\n",
    "        lower += 1\n",
    "    else:\n",
    "        pass\n",
    "\n",
    "print(f'UPPER {upper}')\n",
    "print(f'LOWER {lower}')"
   ]
  },
  {
   "cell_type": "markdown",
   "id": "fb1a132c",
   "metadata": {},
   "source": [
    "# Question 15\n",
    "\n",
    "Write a program that computes the value of a+aa+aaa+aaaa with a given digit as the value of a.\n",
    "\n",
    "Suppose the following input is supplied to the program:\n",
    "```\n",
    "9\n",
    "```\n",
    "Then, the output should be:\n",
    "```\n",
    "11106\n",
    "```"
   ]
  },
  {
   "cell_type": "code",
   "execution_count": 106,
   "id": "3a050357",
   "metadata": {},
   "outputs": [
    {
     "name": "stdout",
     "output_type": "stream",
     "text": [
      "Enter a Digit: 9\n",
      "11106\n"
     ]
    }
   ],
   "source": [
    "s = input('Enter a Digit: ')\n",
    "\n",
    "total = int(s)+int(s*2)+int(s*3)+int(s*4)\n",
    "print(total)"
   ]
  }
 ],
 "metadata": {
  "kernelspec": {
   "display_name": "Python 3 (ipykernel)",
   "language": "python",
   "name": "python3"
  },
  "language_info": {
   "codemirror_mode": {
    "name": "ipython",
    "version": 3
   },
   "file_extension": ".py",
   "mimetype": "text/x-python",
   "name": "python",
   "nbconvert_exporter": "python",
   "pygments_lexer": "ipython3",
   "version": "3.9.7"
  }
 },
 "nbformat": 4,
 "nbformat_minor": 5
}
