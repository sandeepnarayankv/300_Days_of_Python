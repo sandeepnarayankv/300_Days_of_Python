{
 "cells": [
  {
   "cell_type": "code",
   "execution_count": 62,
   "id": "f6ed2ade",
   "metadata": {},
   "outputs": [],
   "source": [
    "import requests\n",
    "import hashlib\n",
    "def request_api_data(query_char):\n",
    "    url = 'https://api.pwnedpasswords.com/range/'+query_char\n",
    "    res = requests.get(url)\n",
    "    if res.status_code != 200:\n",
    "        raise RuntimeError(f'Error Fetching Data, Status {res.status_code} Returned!! Check API & Try Again!!')\n",
    "    else:\n",
    "        return res\n",
    "\n",
    "def get_passwd_leaks_count(hashes, hash_to_chk):\n",
    "    \n",
    "    passwd_list = (line.split(':') for line in hashes.splitlines())\n",
    "    for h, c in passwd_list:\n",
    "        if h == hash_to_chk:\n",
    "            return int(c)\n",
    "    return 0\n",
    "    \n",
    "def pwned_api_check(password):\n",
    "    encoded_pwd = password.encode('utf-8')\n",
    "    hashed = hashlib.sha1()\n",
    "    hashed.update(encoded_pwd)\n",
    "    hash_pwd = hashed.hexdigest().upper()\n",
    "    head, tail = hash_pwd[:5], hash_pwd[5:]\n",
    "    response = request_api_data(query_char=head)\n",
    "    return get_passwd_leaks_count(response.text, tail)           "
   ]
  },
  {
   "cell_type": "code",
   "execution_count": 69,
   "id": "9e12c0c6",
   "metadata": {},
   "outputs": [
    {
     "name": "stdout",
     "output_type": "stream",
     "text": [
      "Enter the password to be checked for Breaches: lpraprss*123\n",
      "Password given was breached 1 times. Please try to Change!!\n"
     ]
    }
   ],
   "source": [
    "passwd = input('Enter the password to be checked for Breaches: ')\n",
    "no_of_breaches = pwned_api_check(passwd)\n",
    "if no_of_breaches > 0:\n",
    "    print (f'Password given was breached {no_of_breaches} times. Please try to Change!!')\n",
    "else:\n",
    "    print('Password was never breached, Great, Carry On!!|')"
   ]
  }
 ],
 "metadata": {
  "kernelspec": {
   "display_name": "Python 3 (ipykernel)",
   "language": "python",
   "name": "python3"
  },
  "language_info": {
   "codemirror_mode": {
    "name": "ipython",
    "version": 3
   },
   "file_extension": ".py",
   "mimetype": "text/x-python",
   "name": "python",
   "nbconvert_exporter": "python",
   "pygments_lexer": "ipython3",
   "version": "3.9.2"
  }
 },
 "nbformat": 4,
 "nbformat_minor": 5
}
