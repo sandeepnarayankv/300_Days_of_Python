{
 "cells": [
  {
   "cell_type": "code",
   "execution_count": 2,
   "id": "f96e36ef",
   "metadata": {},
   "outputs": [],
   "source": [
    "import smtplib\n",
    "from email.message import EmailMessage\n",
    "from string import Template\n",
    "from pathlib import Path"
   ]
  },
  {
   "cell_type": "code",
   "execution_count": 5,
   "id": "b3cbcef1",
   "metadata": {},
   "outputs": [],
   "source": [
    "html = Template(Path('index.html').read_text())"
   ]
  },
  {
   "cell_type": "code",
   "execution_count": 8,
   "id": "127cc3e3",
   "metadata": {},
   "outputs": [],
   "source": [
    "email = EmailMessage()\n",
    "email['from'] = 'Sandeep'\n",
    "email['to'] = 'sandeep.narayan.kv@gmail.com'\n",
    "email['subject'] = 'You have worn a Million Dollars!!!'\n",
    "email.set_content(html.substitute({'name': 'TinTin'}), 'html')"
   ]
  },
  {
   "cell_type": "code",
   "execution_count": 9,
   "id": "40f2864d",
   "metadata": {},
   "outputs": [
    {
     "name": "stderr",
     "output_type": "stream",
     "text": [
      "send: 'ehlo [192.168.56.1]\\r\\n'\n",
      "reply: b'250-smtp.gmail.com at your service, [49.207.229.158]\\r\\n'\n",
      "reply: b'250-SIZE 35882577\\r\\n'\n",
      "reply: b'250-8BITMIME\\r\\n'\n",
      "reply: b'250-AUTH LOGIN PLAIN XOAUTH2 PLAIN-CLIENTTOKEN OAUTHBEARER XOAUTH\\r\\n'\n",
      "reply: b'250-ENHANCEDSTATUSCODES\\r\\n'\n",
      "reply: b'250-PIPELINING\\r\\n'\n",
      "reply: b'250-CHUNKING\\r\\n'\n",
      "reply: b'250 SMTPUTF8\\r\\n'\n",
      "reply: retcode (250); Msg: b'smtp.gmail.com at your service, [49.207.229.158]\\nSIZE 35882577\\n8BITMIME\\nAUTH LOGIN PLAIN XOAUTH2 PLAIN-CLIENTTOKEN OAUTHBEARER XOAUTH\\nENHANCEDSTATUSCODES\\nPIPELINING\\nCHUNKING\\nSMTPUTF8'\n",
      "send: 'AUTH PLAIN AHNhbmRpLm5hcmF5YW5AZ21haWwuY29tAGl6cm1hdnhld3JwbHNkb2o=\\r\\n'\n",
      "reply: b'235 2.7.0 Accepted\\r\\n'\n",
      "reply: retcode (235); Msg: b'2.7.0 Accepted'\n",
      "send: 'mail FROM:<Sandeep> size=297\\r\\n'\n",
      "reply: b'250 2.1.0 OK m21sm13094223pfk.26 - gsmtp\\r\\n'\n",
      "reply: retcode (250); Msg: b'2.1.0 OK m21sm13094223pfk.26 - gsmtp'\n",
      "send: 'rcpt TO:<sandeep.narayan.kv@gmail.com>\\r\\n'\n",
      "reply: b'250 2.1.5 OK m21sm13094223pfk.26 - gsmtp\\r\\n'\n",
      "reply: retcode (250); Msg: b'2.1.5 OK m21sm13094223pfk.26 - gsmtp'\n",
      "send: 'data\\r\\n'\n",
      "reply: b'354  Go ahead m21sm13094223pfk.26 - gsmtp\\r\\n'\n",
      "reply: retcode (354); Msg: b'Go ahead m21sm13094223pfk.26 - gsmtp'\n",
      "data: (354, b'Go ahead m21sm13094223pfk.26 - gsmtp')\n",
      "send: b'from: Sandeep\\r\\nto: sandeep.narayan.kv@gmail.com\\r\\nsubject: You have worn a Million Dollars!!!\\r\\nContent-Type: text/html; charset=\"utf-8\"\\r\\nContent-Transfer-Encoding: 7bit\\r\\nMIME-Version: 1.0\\r\\n\\r\\n<!DOCTYPE html>\\r\\n<html>\\r\\n<head>\\r\\n</head>\\r\\n<body>\\r\\n    You just won so much money TinTin\\r\\n</body>\\r\\n</html>\\r\\n.\\r\\n'\n",
      "reply: b'250 2.0.0 OK  1644255655 m21sm13094223pfk.26 - gsmtp\\r\\n'\n",
      "reply: retcode (250); Msg: b'2.0.0 OK  1644255655 m21sm13094223pfk.26 - gsmtp'\n",
      "data: (250, b'2.0.0 OK  1644255655 m21sm13094223pfk.26 - gsmtp')\n",
      "send: 'QUIT\\r\\n'\n",
      "reply: b'221 2.0.0 closing connection m21sm13094223pfk.26 - gsmtp\\r\\n'\n",
      "reply: retcode (221); Msg: b'2.0.0 closing connection m21sm13094223pfk.26 - gsmtp'\n"
     ]
    }
   ],
   "source": [
    "with smtplib.SMTP(host='smtp.gmail.com', port=587) as smtp:\n",
    "    smtp.ehlo()\n",
    "    smtp.starttls()\n",
    "    smtp.set_debuglevel(True)\n",
    "    smtp.login('sandi.narayan@gmail.com', 'abcdefgh1jkl')\n",
    "    smtp.send_message(email)"
   ]
  },
  {
   "cell_type": "code",
   "execution_count": null,
   "id": "eb274c88",
   "metadata": {},
   "outputs": [],
   "source": []
  }
 ],
 "metadata": {
  "kernelspec": {
   "display_name": "Python 3 (ipykernel)",
   "language": "python",
   "name": "python3"
  },
  "language_info": {
   "codemirror_mode": {
    "name": "ipython",
    "version": 3
   },
   "file_extension": ".py",
   "mimetype": "text/x-python",
   "name": "python",
   "nbconvert_exporter": "python",
   "pygments_lexer": "ipython3",
   "version": "3.9.7"
  }
 },
 "nbformat": 4,
 "nbformat_minor": 5
}
