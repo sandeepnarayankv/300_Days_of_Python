{
 "cells": [
  {
   "cell_type": "markdown",
   "id": "afd6ddb8",
   "metadata": {},
   "source": [
    "# Question 47\n",
    "\n",
    "> **_Define a class named Circle which can be constructed by a radius. The Circle class has a method which can compute the area._**\n"
   ]
  },
  {
   "cell_type": "code",
   "execution_count": 4,
   "id": "1334ffb9",
   "metadata": {},
   "outputs": [
    {
     "name": "stdout",
     "output_type": "stream",
     "text": [
      "Area = 616.0\n",
      "Perimeter = 88.0\n"
     ]
    }
   ],
   "source": [
    "class Circle():\n",
    "    def __init__ (self, radius):\n",
    "        self.radius = radius\n",
    "        self.PI = 22/7\n",
    "        \n",
    "    def area(self):\n",
    "        '''\n",
    "        Calculates the area of the Circle\n",
    "        '''\n",
    "        return self.PI*self.radius**2\n",
    "    \n",
    "    def perimeter(self):\n",
    "        '''\n",
    "        Calculates the perimeter of the circle\n",
    "        '''\n",
    "        return 2*self.PI*self.radius\n",
    "    \n",
    "r14 = Circle(14)\n",
    "print(f'Area = {r14.area()}')\n",
    "print(f'Perimeter = {r14.perimeter()}')"
   ]
  },
  {
   "cell_type": "markdown",
   "id": "69d098d2",
   "metadata": {},
   "source": [
    "# Question 48\n",
    "\n",
    "> **_Define a class named Rectangle which can be constructed by a length and width. The Rectangle class has a method which can compute the area._**"
   ]
  },
  {
   "cell_type": "code",
   "execution_count": 7,
   "id": "f0b4cc33",
   "metadata": {},
   "outputs": [
    {
     "name": "stdout",
     "output_type": "stream",
     "text": [
      "Area = 8\n",
      "Perimeter = 12\n"
     ]
    }
   ],
   "source": [
    "class Rectangle():\n",
    "    def __init__ (self, l, w):\n",
    "        self.l = l\n",
    "        self.w = w\n",
    "        \n",
    "    def area(self):\n",
    "        '''\n",
    "        Calculates the area of the Rectangle\n",
    "        '''\n",
    "        return self.l*self.w\n",
    "    \n",
    "    def perimeter(self):\n",
    "        '''\n",
    "        Calculates the perimeter of the Rectangle\n",
    "        '''\n",
    "        return 2*(self.l+self.w)\n",
    "    \n",
    "l4w2 = Rectangle(4,2)\n",
    "print(f'Area = {l4w2.area()}')\n",
    "print(f'Perimeter = {l4w2.perimeter()}')"
   ]
  },
  {
   "cell_type": "markdown",
   "id": "1ff55c7e",
   "metadata": {},
   "source": [
    "# Question 49\n",
    "\n",
    "> **_Define a class named Shape and its subclass Square. The Square class has an init function which takes a length as argument. Both classes have a area function which can print the area of the shape where Shape's area is 0 by default._**"
   ]
  },
  {
   "cell_type": "code",
   "execution_count": 11,
   "id": "fb2c1f6c",
   "metadata": {},
   "outputs": [
    {
     "name": "stdout",
     "output_type": "stream",
     "text": [
      "Area = 25\n",
      "Perimeter = 20\n"
     ]
    }
   ],
   "source": [
    "class Shape():\n",
    "        \n",
    "    def area(self):\n",
    "        '''\n",
    "        Calculates the area of the Shape\n",
    "        '''\n",
    "        return 0\n",
    "    \n",
    "    def perimeter(self):\n",
    "        '''\n",
    "        Calculates the perimeter of the Shape\n",
    "        '''\n",
    "        return 0\n",
    "    \n",
    "class Square(Shape):\n",
    "    def __init__(self, l):\n",
    "        self.l = l\n",
    "    \n",
    "    def area(self):\n",
    "        '''\n",
    "        Calculates the area of the square\n",
    "        '''\n",
    "        return self.l**2\n",
    "    \n",
    "    def perimeter(self):\n",
    "        '''\n",
    "        Calculates the perimeter of the Shape\n",
    "        '''\n",
    "        return 4*self.l\n",
    "        \n",
    "sq5 = Square(5)\n",
    "print(f'Area = {sq5.area()}')\n",
    "print(f'Perimeter = {sq5.perimeter()}')"
   ]
  },
  {
   "cell_type": "markdown",
   "id": "1ba6acdf",
   "metadata": {},
   "source": [
    "# Question 50\n",
    "\n",
    "> **_Please raise a RuntimeError exception._**\n"
   ]
  },
  {
   "cell_type": "code",
   "execution_count": 15,
   "id": "995d1482",
   "metadata": {},
   "outputs": [
    {
     "name": "stdout",
     "output_type": "stream",
     "text": [
      "Argumet has to be Zero\n"
     ]
    }
   ],
   "source": [
    "def zero(x):\n",
    "    if x == 0:\n",
    "        print('Zero')\n",
    "    else:\n",
    "        raise RuntimeError('Argumet has to be Zero')\n",
    "        \n",
    "try:\n",
    "    zero(10)\n",
    "except RuntimeError as exc:\n",
    "    print (exc)"
   ]
  },
  {
   "cell_type": "markdown",
   "id": "fd71351c",
   "metadata": {},
   "source": [
    "# Question 51\n",
    "\n",
    "> ***Write a function to compute 5/0 and use try/except to catch the exceptions.***"
   ]
  },
  {
   "cell_type": "code",
   "execution_count": 20,
   "id": "6da13b98",
   "metadata": {},
   "outputs": [
    {
     "name": "stdout",
     "output_type": "stream",
     "text": [
      "division by zero\n"
     ]
    }
   ],
   "source": [
    "try:\n",
    "    5/0\n",
    "except Exception as exc:\n",
    "    print(exc)"
   ]
  },
  {
   "cell_type": "markdown",
   "id": "26b15f3c",
   "metadata": {},
   "source": [
    "# Question 52\n",
    "\n",
    "> ***Define a custom exception class which takes a string message as attribute.***"
   ]
  },
  {
   "cell_type": "code",
   "execution_count": 29,
   "id": "a9d64b07",
   "metadata": {},
   "outputs": [
    {
     "data": {
      "text/plain": [
       "'My Error'"
      ]
     },
     "execution_count": 29,
     "metadata": {},
     "output_type": "execute_result"
    }
   ],
   "source": [
    "class MyError(Exception):\n",
    "    '''\n",
    "    My own exception class\n",
    "\n",
    "    Attributes:\n",
    "        msg  -- explanation of the error\n",
    "    '''\n",
    "    def __init__(self, msg):\n",
    "        self.msg =msg\n",
    "        \n",
    "err = MyError('My Error')\n",
    "err.msg"
   ]
  },
  {
   "cell_type": "markdown",
   "id": "650e48dc",
   "metadata": {},
   "source": [
    "# Question 53\n",
    "\n",
    "> ***Assuming that we have some email addresses in the \"username@companyname.com\" format, please write program to print the user name of a given email address. Both user names and company names are composed of letters only.***"
   ]
  },
  {
   "cell_type": "code",
   "execution_count": 38,
   "id": "102f646c",
   "metadata": {},
   "outputs": [
    {
     "name": "stdout",
     "output_type": "stream",
     "text": [
      "User Name: sandeep and Company: cts\n"
     ]
    }
   ],
   "source": [
    "email = 'sandeep@cts.com'\n",
    "pos = email.index('@')\n",
    "username = email[:pos]\n",
    "company = email[pos+1:email.index('.')]\n",
    "print (f'User Name: {username} and Company: {company}')"
   ]
  },
  {
   "cell_type": "markdown",
   "id": "6b9ba49b",
   "metadata": {},
   "source": [
    "# Question 54\n",
    "\n",
    "> **_Assuming that we have some email addresses in the \"username@companyname.com\" format, please write program to print the company name of a given email address. Both user names and company names are composed of letters only._**\n",
    "\n",
    "> **_Example:\n",
    "> If the following email address is given as input to the program:_**\n",
    "\n",
    "```\n",
    "john@google.com\n",
    "```\n",
    "\n",
    "> **_Then, the output of the program should be:_**\n",
    "\n",
    "```\n",
    "google\n",
    "```"
   ]
  },
  {
   "cell_type": "code",
   "execution_count": 39,
   "id": "920ff115",
   "metadata": {},
   "outputs": [
    {
     "name": "stdout",
     "output_type": "stream",
     "text": [
      "User Name: sandeep and Company: cts\n"
     ]
    }
   ],
   "source": [
    "email = 'sandeep@cts.com'\n",
    "pos = email.index('@')\n",
    "username = email[:pos]\n",
    "company = email[pos+1:email.index('.')]\n",
    "print (f'User Name: {username} and Company: {company}')"
   ]
  },
  {
   "cell_type": "markdown",
   "id": "3f71ffe2",
   "metadata": {},
   "source": [
    "# Question 55\n",
    "\n",
    "> **_Write a program which accepts a sequence of words separated by whitespace as input to print the words composed of digits only._**\n",
    "\n",
    "> **_Example:\n",
    "> If the following words is given as input to the program:_**\n",
    "\n",
    "```\n",
    "2 cats and 3 dogs.\n",
    "```\n",
    "\n",
    "> **_Then, the output of the program should be:_**\n",
    "\n",
    "```\n",
    "['2', '3']\n",
    "```\n",
    "\n",
    "> **_In case of input data being supplied to the question, it should be assumed to be a console input._**\n"
   ]
  },
  {
   "cell_type": "code",
   "execution_count": 41,
   "id": "d6d107a9",
   "metadata": {},
   "outputs": [
    {
     "name": "stdout",
     "output_type": "stream",
     "text": [
      "Enter words: 2 cats and 3 dogs.\n",
      "['2', '3']\n"
     ]
    }
   ],
   "source": [
    "check_digit = lambda x: x.isdigit()\n",
    "print(list(filter(check_digit, input('Enter words: ').split())))"
   ]
  },
  {
   "cell_type": "markdown",
   "id": "6bd2c9dd",
   "metadata": {},
   "source": [
    "# Question 56\n",
    "\n",
    "> **_Print a unicode string \"hello world\"._**\n",
    "\n",
    "---\n",
    "\n",
    "### Hints\n",
    "\n",
    "> **_Use u'strings' format to define unicode string._**"
   ]
  },
  {
   "cell_type": "code",
   "execution_count": 45,
   "id": "5552e419",
   "metadata": {},
   "outputs": [
    {
     "name": "stdout",
     "output_type": "stream",
     "text": [
      "Hello World!\n"
     ]
    }
   ],
   "source": [
    "unicode_string = u\"Hello World!\"\n",
    "print(unicode_string)"
   ]
  },
  {
   "cell_type": "markdown",
   "id": "2c289b70",
   "metadata": {},
   "source": [
    "# Question 57\n",
    "\n",
    "> **_Write a program to read an ASCII string and to convert it to a unicode string encoded by utf-8._**\n",
    "\n",
    "---\n",
    "\n",
    "### Hints\n",
    "\n",
    "> **_Use unicode()/encode() function to convert._**\n"
   ]
  },
  {
   "cell_type": "code",
   "execution_count": 63,
   "id": "d91621c2",
   "metadata": {},
   "outputs": [
    {
     "name": "stdout",
     "output_type": "stream",
     "text": [
      "Enter String: Life is Good\n",
      "b'Life is Good'\n"
     ]
    }
   ],
   "source": [
    "s = input('Enter String: ')\n",
    "u = s.encode('utf-8')\n",
    "print(u)"
   ]
  },
  {
   "cell_type": "markdown",
   "id": "22153f46",
   "metadata": {},
   "source": [
    "# Question 58\n",
    "\n",
    "> **_Write a special comment to indicate a Python source code file is in unicode._**"
   ]
  },
  {
   "cell_type": "code",
   "execution_count": 66,
   "id": "a1dbf6f6",
   "metadata": {},
   "outputs": [],
   "source": [
    "# used in Python 2 but useless in Python 3\n",
    "# Python 3 default encoding is utf-8\n",
    "#Solution below for Python 2\n",
    "# -*- coding: utf-8 -*-"
   ]
  },
  {
   "cell_type": "markdown",
   "id": "334c3640",
   "metadata": {},
   "source": [
    "# Question 59\n",
    "> **_Write a program to compute 1/2+2/3+3/4+...+n/n+1 with a given n input by console (n>0)._**\n",
    "\n",
    "> **_Example:\n",
    "> If the following n is given as input to the program:_**\n",
    "\n",
    "```\n",
    "5\n",
    "```\n",
    "\n",
    "> **_Then, the output of the program should be:_**\n",
    "\n",
    "```\n",
    "3.55\n",
    "```\n",
    "\n",
    "> **_In case of input data being supplied to the question, it should be assumed to be a console input._**\n"
   ]
  },
  {
   "cell_type": "code",
   "execution_count": 76,
   "id": "be63fbf6",
   "metadata": {},
   "outputs": [
    {
     "name": "stdout",
     "output_type": "stream",
     "text": [
      "3.55\n"
     ]
    }
   ],
   "source": [
    "def func(n):\n",
    "    if n == 0:\n",
    "        return 0\n",
    "    else:\n",
    "        return round(n/(n+1) + func(n-1), 2)\n",
    "\n",
    "print(func(5))"
   ]
  },
  {
   "cell_type": "markdown",
   "id": "383be181",
   "metadata": {},
   "source": [
    "# Question 60\n",
    "\n",
    "> **_Write a program to compute:_**\n",
    "\n",
    "```\n",
    "f(n)=f(n-1)+100 when n>0\n",
    "and f(0)=0\n",
    "```\n",
    "\n",
    "> **_with a given n input by console (n>0)._**\n",
    "\n",
    "> **_Example:\n",
    "> If the following n is given as input to the program:_**\n",
    "\n",
    "```\n",
    "5\n",
    "```\n",
    "\n",
    "> **_Then, the output of the program should be:_**\n",
    "\n",
    "```\n",
    "500\n",
    "```\n",
    "\n",
    "> **_In case of input data being supplied to the question, it should be assumed to be a console input._**\n"
   ]
  },
  {
   "cell_type": "code",
   "execution_count": 80,
   "id": "8420938a",
   "metadata": {},
   "outputs": [
    {
     "name": "stdout",
     "output_type": "stream",
     "text": [
      "500\n"
     ]
    }
   ],
   "source": [
    "def func(n):\n",
    "    if n == 0:\n",
    "        return 0\n",
    "    else:\n",
    "        return 100 + func(n-1)\n",
    "\n",
    "print(func(5))"
   ]
  },
  {
   "cell_type": "markdown",
   "id": "3a4d0551",
   "metadata": {},
   "source": [
    "# Question 61\n",
    "\n",
    "> **_The Fibonacci Sequence is computed based on the following formula:_**\n",
    "\n",
    "```\n",
    "f(n)=0 if n=0\n",
    "f(n)=1 if n=1\n",
    "f(n)=f(n-1)+f(n-2) if n>1\n",
    "```\n",
    "\n",
    "> **_Please write a program to compute the value of f(n) with a given n input by console._**\n",
    "\n",
    "> **_Example:\n",
    "> If the following n is given as input to the program:_**\n",
    "\n",
    "```\n",
    "7\n",
    "```\n",
    "\n",
    "> **_Then, the output of the program should be:_**\n",
    "\n",
    "```\n",
    "13\n",
    "```\n",
    "\n",
    "> **_In case of input data being supplied to the question, it should be assumed to be a console input._**\n",
    "\n",
    "---"
   ]
  },
  {
   "cell_type": "code",
   "execution_count": 101,
   "id": "6c769a7b",
   "metadata": {},
   "outputs": [
    {
     "name": "stdout",
     "output_type": "stream",
     "text": [
      "Enter n: 7\n",
      "13\n"
     ]
    }
   ],
   "source": [
    "def fib(n):\n",
    "    if n == 0:\n",
    "        return 0\n",
    "    elif n == 1:\n",
    "        return 1\n",
    "    else:\n",
    "        return fib(n-1) + fib(n-2)\n",
    "n = int(input('Enter n: '))\n",
    "print(func(n))"
   ]
  },
  {
   "cell_type": "markdown",
   "id": "6ae04f71",
   "metadata": {},
   "source": [
    "# Question 62\n",
    "\n",
    "> **_The Fibonacci Sequence is computed based on the following formula:_**\n",
    "\n",
    "```\n",
    "f(n)=0 if n=0\n",
    "f(n)=1 if n=1\n",
    "f(n)=f(n-1)+f(n-2) if n>1\n",
    "```\n",
    "\n",
    "> **_Please write a program to compute the value of f(n) with a given n input by console._**\n",
    "\n",
    "> **_Example:\n",
    "> If the following n is given as input to the program:_**\n",
    "\n",
    "```\n",
    "7\n",
    "```\n",
    "\n",
    "> **_Then, the output of the program should be:_**\n",
    "\n",
    "```\n",
    "0,1,1,2,3,5,8,13\n",
    "```\n",
    "\n",
    "> **_In case of input data being supplied to the question, it should be assumed to be a console input._**\n"
   ]
  },
  {
   "cell_type": "code",
   "execution_count": 107,
   "id": "61e50636",
   "metadata": {},
   "outputs": [
    {
     "name": "stdout",
     "output_type": "stream",
     "text": [
      "Enter n: 8\n",
      "0,1,1,2,3,5,8,13,21\n"
     ]
    }
   ],
   "source": [
    "def fib(n):\n",
    "    if n < 2:\n",
    "        return n\n",
    "    else:\n",
    "        return fib(n-1) + fib(n-2)\n",
    "n = int(input('Enter n: '))\n",
    "fibs = [str(fib(i)) for i in range(n+1)]\n",
    "print(','.join(fibs))"
   ]
  },
  {
   "cell_type": "markdown",
   "id": "1e105401",
   "metadata": {},
   "source": [
    "# Question 63\n",
    "\n",
    "> **_Please write a program using generator to print the even numbers between 0 and n in comma separated form while n is input by console._**\n",
    "\n",
    "> **_Example:\n",
    "> If the following n is given as input to the program:_**\n",
    "\n",
    "```\n",
    "10\n",
    "```\n",
    "\n",
    "> **_Then, the output of the program should be:_**\n",
    "\n",
    "```\n",
    "0,2,4,6,8,10\n",
    "```\n",
    "\n",
    "> **_In case of input data being supplied to the question, it should be assumed to be a console input._**\n"
   ]
  },
  {
   "cell_type": "code",
   "execution_count": 112,
   "id": "147cc385",
   "metadata": {},
   "outputs": [
    {
     "name": "stdout",
     "output_type": "stream",
     "text": [
      "Enter n: 10\n",
      "0,2,4,6,8,10\n"
     ]
    }
   ],
   "source": [
    "def even_gen(n):\n",
    "    for i in range(0, n+1, 2):\n",
    "        yield i\n",
    "even = [str(x) for x in even_gen(int(input('Enter n: ')))]\n",
    "print(','.join(even))"
   ]
  },
  {
   "cell_type": "markdown",
   "id": "3d0e6efb",
   "metadata": {},
   "source": [
    "# Question 64\n",
    "\n",
    "> **_Please write a program using generator to print the numbers which can be divisible by 5 and 7 between 0 and n in comma separated form while n is input by console._**\n",
    "\n",
    "> **_Example:\n",
    "> If the following n is given as input to the program:_**\n",
    "\n",
    "```\n",
    "100\n",
    "```\n",
    "\n",
    "> **_Then, the output of the program should be:_**\n",
    "\n",
    "```\n",
    "0,35,70\n",
    "```\n",
    "\n",
    "> **_In case of input data being supplied to the question, it should be assumed to be a console input._**\n"
   ]
  },
  {
   "cell_type": "code",
   "execution_count": 117,
   "id": "77b76b4e",
   "metadata": {},
   "outputs": [
    {
     "name": "stdout",
     "output_type": "stream",
     "text": [
      "Enter n: 100\n",
      "0,35,70\n"
     ]
    }
   ],
   "source": [
    "def div_5_7(n):\n",
    "    for i in range(n+1):\n",
    "        if not i%7 and not i%5:\n",
    "            yield i\n",
    "\n",
    "l = [str(i) for i in div_5_7(int(input('Enter n: ')))]\n",
    "print(','.join(l))"
   ]
  }
 ],
 "metadata": {
  "kernelspec": {
   "display_name": "Python 3 (ipykernel)",
   "language": "python",
   "name": "python3"
  },
  "language_info": {
   "codemirror_mode": {
    "name": "ipython",
    "version": 3
   },
   "file_extension": ".py",
   "mimetype": "text/x-python",
   "name": "python",
   "nbconvert_exporter": "python",
   "pygments_lexer": "ipython3",
   "version": "3.9.7"
  }
 },
 "nbformat": 4,
 "nbformat_minor": 5
}
