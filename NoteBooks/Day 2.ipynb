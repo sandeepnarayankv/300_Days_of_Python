{
 "cells": [
  {
   "cell_type": "markdown",
   "id": "5a9e3ca7",
   "metadata": {},
   "source": [
    "# Question 16\n",
    "\n",
    "> **_Use a list comprehension to square each odd number in a list. The list is input by a sequence of comma-separated numbers._** \n",
    ">**_Suppose the following input is supplied to the program:_**\n",
    "\n",
    "```\n",
    "1,2,3,4,5,6,7,8,9\n",
    "```\n",
    "\n",
    "> **_Then, the output should be:_**\n",
    "\n",
    "```\n",
    "1,9,25,49,81\n",
    "```"
   ]
  },
  {
   "cell_type": "code",
   "execution_count": 3,
   "id": "dd8a4112",
   "metadata": {},
   "outputs": [
    {
     "name": "stdout",
     "output_type": "stream",
     "text": [
      "Enter a list of comma seperated numbers: 1,2,3,4,5,6,7,8,9\n",
      "1,9,25,49,81\n"
     ]
    }
   ],
   "source": [
    "s = input ('Enter a list of comma seperated numbers: ').split(',')\n",
    "sq = [str(int(i)**2) for i in s if int(i)%2 != 0]\n",
    "print(','.join(sq))"
   ]
  },
  {
   "cell_type": "markdown",
   "id": "1a312cb8",
   "metadata": {},
   "source": [
    "# Question 17\n",
    "\n",
    "> **_Write a program that computes the net amount of a bank account based a transaction log from console input. The transaction log format is shown as following:_**\n",
    "\n",
    "```\n",
    "D 100\n",
    "W 200\n",
    "```\n",
    "\n",
    "- D means deposit while W means withdrawal.\n",
    "\n",
    "> **_Suppose the following input is supplied to the program:_**\n",
    "\n",
    "```\n",
    "D 300\n",
    "D 300\n",
    "W 200\n",
    "D 100\n",
    "```\n",
    "\n",
    "> **_Then, the output should be:_**\n",
    "\n",
    "```\n",
    "500\n",
    "```"
   ]
  },
  {
   "cell_type": "code",
   "execution_count": 5,
   "id": "f1081b5e",
   "metadata": {},
   "outputs": [
    {
     "name": "stdout",
     "output_type": "stream",
     "text": [
      "Enter Transaction (Press Enter to End): D 300\n",
      "Enter Transaction (Press Enter to End): D 300\n",
      "Enter Transaction (Press Enter to End): W 200\n",
      "Enter Transaction (Press Enter to End): D 100\n",
      "Enter Transaction (Press Enter to End): \n",
      "500\n"
     ]
    }
   ],
   "source": [
    "total = 0\n",
    "while True:\n",
    "    s = input('Enter Transaction (Press Enter to End): ')\n",
    "    if s == '':\n",
    "        break\n",
    "    else:\n",
    "        l = s.split()\n",
    "        if l[0].upper() == 'D':\n",
    "            total += int(l[1])\n",
    "        elif l[0].upper() == 'W':\n",
    "            total -= int(l[1])\n",
    "        else:\n",
    "            pass\n",
    "print(total)"
   ]
  },
  {
   "cell_type": "markdown",
   "id": "f37fbba4",
   "metadata": {},
   "source": [
    "# Question 18\n",
    "\n",
    "> **_A website requires the users to input username and password to register. Write a program to check the validity of password input by users._**\n",
    "\n",
    "> **_Following are the criteria for checking the password:_**\n",
    "\n",
    "- **_At least 1 letter between [a-z]_**\n",
    "- **_At least 1 number between [0-9]_**\n",
    "- **_At least 1 letter between [A-Z]_**\n",
    "- **_At least 1 character from [$#@]_**\n",
    "- **_Minimum length of transaction password: 6_**\n",
    "- **_Maximum length of transaction password: 12_**\n",
    "\n",
    "> **_Your program should accept a sequence of comma separated passwords and will check them according to the above criteria. Passwords that match the criteria are to be printed, each separated by a comma._**\n",
    "\n",
    "> **_Example_**\n",
    "\n",
    "> **_If the following passwords are given as input to the program:_**\n",
    "\n",
    "```\n",
    "ABd1234@1,a F1#,2w3E*,2We3345\n",
    "```\n",
    "\n",
    "> **_Then, the output of the program should be:_**\n",
    "\n",
    "```\n",
    "ABd1234@1\n",
    "```"
   ]
  },
  {
   "cell_type": "code",
   "execution_count": 13,
   "id": "f8b28462",
   "metadata": {},
   "outputs": [
    {
     "name": "stdout",
     "output_type": "stream",
     "text": [
      "Enter a list of comma seperated password candidates: ABd1234@1,aF1#,2w3E*,2We3345\n",
      "ABd1234@1\n"
     ]
    }
   ],
   "source": [
    "alpha_lower = lambda x: x.isalpha() and x.islower()\n",
    "alpha_upper = lambda x: x.isalpha() and x.isupper()\n",
    "digit = lambda x: x.isdigit()\n",
    "spl = lambda x: x in '$#@'\n",
    "    \n",
    "s = input ('Enter a list of comma seperated password candidates: ').split(',')\n",
    "accepted = list()\n",
    "for p in s:\n",
    "    if len(p) >= 6 and len(p)<= 12 and True in map(alpha_lower, p) and True in map(alpha_upper, p) and True in map(digit, p) and True in map(spl, p):\n",
    "        accepted.append(p)\n",
    "\n",
    "print (','.join(accepted))"
   ]
  },
  {
   "cell_type": "markdown",
   "id": "55482977",
   "metadata": {},
   "source": [
    "# Question 19\n",
    "\n",
    "> **_You are required to write a program to sort the (name, age, score) tuples by ascending order where name is string, age and score are numbers. The tuples are input by console. The sort criteria is:_**\n",
    "\n",
    "- **_1: Sort based on name_**\n",
    "- **_2: Then sort based on age_**\n",
    "- **_3: Then sort by score_**\n",
    "\n",
    "> **_The priority is that name > age > score._**\n",
    "\n",
    "> **_If the following tuples are given as input to the program:_**\n",
    "\n",
    "```\n",
    "Tom,19,80\n",
    "John,20,90\n",
    "Jony,17,91\n",
    "Jony,17,93\n",
    "Json,21,85\n",
    "```\n",
    "\n",
    "> **_Then, the output of the program should be:_**\n",
    "\n",
    "```\n",
    "[('John', '20', '90'), ('Jony', '17', '91'), ('Jony', '17', '93'), ('Json', '21', '85'), ('Tom', '19', '80')]\n",
    "```\n"
   ]
  },
  {
   "cell_type": "code",
   "execution_count": 18,
   "id": "dd5c3f1b",
   "metadata": {},
   "outputs": [
    {
     "name": "stdout",
     "output_type": "stream",
     "text": [
      "Enter a list of comma seperated tuple values: Json,21,85\n",
      "Enter a list of comma seperated tuple values: Tom,19,80\n",
      "Enter a list of comma seperated tuple values: John,20,90\n",
      "Enter a list of comma seperated tuple values: Jony,17,91\n",
      "Enter a list of comma seperated tuple values: Jony,17,93\n",
      "Enter a list of comma seperated tuple values: \n"
     ]
    },
    {
     "data": {
      "text/plain": [
       "[('John', '20', '90'),\n",
       " ('Jony', '17', '91'),\n",
       " ('Jony', '17', '93'),\n",
       " ('Json', '21', '85'),\n",
       " ('Tom', '19', '80')]"
      ]
     },
     "execution_count": 18,
     "metadata": {},
     "output_type": "execute_result"
    }
   ],
   "source": [
    "lst = list()\n",
    "while True:\n",
    "    s = input ('Enter a list of comma seperated tuple values: ')\n",
    "    if s:\n",
    "        lst.append(tuple(s.split(',')))\n",
    "    else:\n",
    "        break\n",
    "\n",
    "lst.sort(key = lambda x: (x[0], int(x[1]), int(x[2])))\n",
    "lst"
   ]
  },
  {
   "cell_type": "markdown",
   "id": "e1f07d66",
   "metadata": {},
   "source": [
    "# Question 20\n",
    "\n",
    "> **_Define a class with a generator which can iterate the numbers, which are divisible by 7, between a given range 0 and n._**\n",
    "\n",
    "> **_Suppose the following input is supplied to the program:_**\n",
    "\n",
    "```\n",
    "7\n",
    "```\n",
    "\n",
    "> **_Then, the output should be:_**\n",
    "\n",
    "```\n",
    "0\n",
    "7\n",
    "14\n",
    "```"
   ]
  },
  {
   "cell_type": "code",
   "execution_count": 31,
   "id": "73a79759",
   "metadata": {},
   "outputs": [
    {
     "name": "stdout",
     "output_type": "stream",
     "text": [
      "Please insert a number. --> 7\n",
      "0\n",
      "7\n",
      "14\n"
     ]
    }
   ],
   "source": [
    "class Divisible():\n",
    "    def __init__(self, n):\n",
    "        self.n = n\n",
    "    \n",
    "    def by_seven(self):\n",
    "        for i in range(0, self.n//7+2):\n",
    "            yield i*7\n",
    "            \n",
    "n = int(input('Please insert a number. --> '))\n",
    "seven = Divisible(n)\n",
    "for value in seven.by_seven():\n",
    "    print(value)"
   ]
  },
  {
   "cell_type": "markdown",
   "id": "1c43099c",
   "metadata": {},
   "source": [
    "# Question 21\n",
    "\n",
    "> **_A robot moves in a plane starting from the original point (0,0). The robot can move toward UP, DOWN, LEFT and RIGHT with a given steps. The trace of robot movement is shown as the following:_**\n",
    "\n",
    "```\n",
    "UP 5\n",
    "DOWN 3\n",
    "LEFT 3\n",
    "RIGHT 2\n",
    "```\n",
    "\n",
    "> **_The numbers after the direction are steps. Please write a program to compute the distance from current position after a sequence of movement and original point. If the distance is a float, then just print the nearest integer._**\n",
    "> **_Example:_**\n",
    "> **_If the following tuples are given as input to the program:_**\n",
    "\n",
    "```\n",
    "UP 5\n",
    "DOWN 3\n",
    "LEFT 3\n",
    "RIGHT 2\n",
    "```\n",
    "\n",
    "> **_Then, the output of the program should be:_**\n",
    "\n",
    "```\n",
    "2\n",
    "```"
   ]
  },
  {
   "cell_type": "code",
   "execution_count": 53,
   "id": "e5645e7a",
   "metadata": {},
   "outputs": [
    {
     "name": "stdout",
     "output_type": "stream",
     "text": [
      "Enter space seperated direction and value: up 5\n",
      "Enter space seperated direction and value: down 3\n",
      "Enter space seperated direction and value: left 3\n",
      "Enter space seperated direction and value: right 2\n",
      "Enter space seperated direction and value: \n",
      "2\n"
     ]
    }
   ],
   "source": [
    "origin = (0,0)\n",
    "\n",
    "left = lambda current_pos, move: (current_pos[0] - move, current_pos[1])\n",
    "right = lambda current_pos, move: (current_pos[0] + move, current_pos[1])\n",
    "up = lambda current_pos, move: (current_pos[0], current_pos[1] + move)\n",
    "down = lambda current_pos, move: (current_pos[0], current_pos[1] - move)\n",
    "\n",
    "current_pos = (0,0)\n",
    "while True:\n",
    "    s = input ('Enter space seperated direction and value: ')\n",
    "    if s:\n",
    "        l = s.split()\n",
    "        if l[0].upper() == 'LEFT':\n",
    "            current_pos = left(current_pos, int(l[1]))\n",
    "        elif l[0].upper() == 'RIGHT':\n",
    "            current_pos = right(current_pos, int(l[1]))\n",
    "        elif l[0].upper() == 'UP':\n",
    "            current_pos = up(current_pos, int(l[1]))\n",
    "        elif l[0].upper() == 'DOWN':\n",
    "            current_pos = down(current_pos, int(l[1]))\n",
    "        else:\n",
    "            pass\n",
    "    else:\n",
    "        break\n",
    "d = int(((current_pos[0]-origin[0])**2 + (current_pos[1]-origin[1])**2)**0.5)\n",
    "print (d)"
   ]
  },
  {
   "cell_type": "markdown",
   "id": "9aa46324",
   "metadata": {},
   "source": [
    "# Question 22\n",
    "\n",
    "> **_Write a program to compute the frequency of the words from the input. The output should output after sorting the key alphanumerically._**\n",
    "\n",
    "> **_Suppose the following input is supplied to the program:_**\n",
    "\n",
    "```\n",
    "New to Python or choosing between Python 2 and Python 3? Read Python 2 or Python 3.\n",
    "```\n",
    "\n",
    "> **_Then, the output should be:_**\n",
    "\n",
    "```\n",
    "2:2\n",
    "3.:1\n",
    "3?:1\n",
    "New:1\n",
    "Python:5\n",
    "Read:1\n",
    "and:1\n",
    "between:1\n",
    "choosing:1\n",
    "or:2\n",
    "to:1\n",
    "```"
   ]
  },
  {
   "cell_type": "code",
   "execution_count": 57,
   "id": "a0a0ca2c",
   "metadata": {},
   "outputs": [
    {
     "name": "stdout",
     "output_type": "stream",
     "text": [
      "Enter a list of words: New to Python or choosing between Python 2 and Python 3? Read Python 2 or Python 3.\n",
      "2:2\n",
      "3.:1\n",
      "3?:1\n",
      "New:1\n",
      "Python:5\n",
      "Read:1\n",
      "and:1\n",
      "between:1\n",
      "choosing:1\n",
      "or:2\n",
      "to:1\n"
     ]
    }
   ],
   "source": [
    "s = input ('Enter a list of words: ').split()\n",
    "wc = dict()\n",
    "wc = {w:s.count(w) for w in s if w not in wc}\n",
    "for k in sorted(wc.keys()):\n",
    "    print(f'{k}:{wc[k]}')"
   ]
  },
  {
   "cell_type": "markdown",
   "id": "b51863da",
   "metadata": {},
   "source": [
    "# Question 23\n",
    "\n",
    "> **_Write a method which can calculate square value of number_**\n"
   ]
  },
  {
   "cell_type": "code",
   "execution_count": 58,
   "id": "7bba1bd7",
   "metadata": {},
   "outputs": [
    {
     "data": {
      "text/plain": [
       "25"
      ]
     },
     "execution_count": 58,
     "metadata": {},
     "output_type": "execute_result"
    }
   ],
   "source": [
    "def square(n):\n",
    "    return n**2\n",
    "\n",
    "square(5)"
   ]
  },
  {
   "cell_type": "markdown",
   "id": "c6aaec21",
   "metadata": {},
   "source": [
    "# Question 24\n",
    "\n",
    "> **_Python has many built-in functions, and if you do not know how to use it, you can read document online or find some books. But Python has a built-in document function for every built-in functions._**\n",
    "\n",
    "> **_Please write a program to print some Python built-in functions documents, such as abs(), int(), raw_input()_**\n",
    "\n",
    "> **_And add document for your own function_**"
   ]
  },
  {
   "cell_type": "code",
   "execution_count": 63,
   "id": "387d11c0",
   "metadata": {},
   "outputs": [
    {
     "name": "stdout",
     "output_type": "stream",
     "text": [
      "Return the absolute value of the argument.\n",
      "int([x]) -> integer\n",
      "int(x, base=10) -> integer\n",
      "\n",
      "Convert a number or string to an integer, or return 0 if no arguments\n",
      "are given.  If x is a number, return x.__int__().  For floating point\n",
      "numbers, this truncates towards zero.\n",
      "\n",
      "If x is not a number or if base is given, then x must be a string,\n",
      "bytes, or bytearray instance representing an integer literal in the\n",
      "given base.  The literal can be preceded by '+' or '-' and be surrounded\n",
      "by whitespace.  The base defaults to 10.  Valid bases are 0 and 2-36.\n",
      "Base 0 means to interpret the base from the string as an integer literal.\n",
      ">>> int('0b100', base=0)\n",
      "4\n",
      "\n",
      "    Return the square of a Number\n",
      "    \n"
     ]
    }
   ],
   "source": [
    "print(abs.__doc__)\n",
    "print(int.__doc__)\n",
    "\n",
    "def square(n):\n",
    "    '''\n",
    "    Return the square of a Number\n",
    "    '''\n",
    "    return n**2\n",
    "\n",
    "print(square.__doc__)"
   ]
  },
  {
   "cell_type": "markdown",
   "id": "39e430ed",
   "metadata": {},
   "source": [
    "# Question 25\n",
    "\n",
    "> **_Define a class, which have a class parameter and have a same instance parameter._**\n"
   ]
  },
  {
   "cell_type": "code",
   "execution_count": 64,
   "id": "c7c60dde",
   "metadata": {},
   "outputs": [
    {
     "name": "stdout",
     "output_type": "stream",
     "text": [
      "Giraffe\n",
      "Animal\n"
     ]
    }
   ],
   "source": [
    "class Animal():\n",
    "    name = \"Animal\"\n",
    "    def __init__(self, name):\n",
    "        self.name = name\n",
    "        \n",
    "giraffe = Animal('Giraffe')\n",
    "print(giraffe.name)\n",
    "print(Animal.name)\n",
    "    "
   ]
  }
 ],
 "metadata": {
  "kernelspec": {
   "display_name": "Python 3 (ipykernel)",
   "language": "python",
   "name": "python3"
  },
  "language_info": {
   "codemirror_mode": {
    "name": "ipython",
    "version": 3
   },
   "file_extension": ".py",
   "mimetype": "text/x-python",
   "name": "python",
   "nbconvert_exporter": "python",
   "pygments_lexer": "ipython3",
   "version": "3.9.7"
  }
 },
 "nbformat": 4,
 "nbformat_minor": 5
}
