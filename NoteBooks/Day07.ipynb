{
 "cells": [
  {
   "cell_type": "markdown",
   "id": "12cea9e8",
   "metadata": {},
   "source": [
    "# Question 1\n",
    "> **_Write a program which will check if the string given matches the criteria for the password\n",
    "> Has minimum 8 characters, containts alphabets, numbers or the following special chars @#%&_**"
   ]
  },
  {
   "cell_type": "code",
   "execution_count": 7,
   "id": "81ec800c",
   "metadata": {},
   "outputs": [
    {
     "name": "stdout",
     "output_type": "stream",
     "text": [
      "Enter the password: sfgkhs\n",
      "Password does not Match\n"
     ]
    }
   ],
   "source": [
    "import re\n",
    "regex = r\"(^[a-zA-Z0-9%$&#@]{8,})$\"\n",
    "pattern = re.compile(regex)\n",
    "password = (input('Enter the password: '))\n",
    "mtch = pattern.match(password)\n",
    "if mtch == None:\n",
    "    print('Password does not Match')\n",
    "else:\n",
    "    print('Password Matches')"
   ]
  },
  {
   "cell_type": "markdown",
   "id": "5abedb52",
   "metadata": {},
   "source": [
    "# Question 2\n",
    "> **_Write a program which will check if the string given matches the criteria for the password\n",
    "> Has minimum 8 characters, containts alphabets, numbers or the following special chars @#%& and ends with a Number_**"
   ]
  },
  {
   "cell_type": "code",
   "execution_count": 9,
   "id": "44accd9c",
   "metadata": {},
   "outputs": [
    {
     "name": "stdout",
     "output_type": "stream",
     "text": [
      "Enter the password: 65876548756\n",
      "Password Matches\n"
     ]
    }
   ],
   "source": [
    "import re\n",
    "regex = r\"(^[a-zA-Z0-9%$&#@]{7,}\\d)$\"\n",
    "pattern = re.compile(regex)\n",
    "password = (input('Enter the password: '))\n",
    "mtch = pattern.match(password)\n",
    "if mtch == None:\n",
    "    print('Password does not Match')\n",
    "else:\n",
    "    print('Password Matches')"
   ]
  },
  {
   "cell_type": "markdown",
   "id": "b2c57df5",
   "metadata": {},
   "source": [
    "# Question 3\n",
    "> **_Write a program which will check if the string given matches the criteria for the password\n",
    "> Has minimum 8 characters, starts with an alphabet, contains atleast 1 lowercase, 1 uppercase 1 Number and , atleast 1 special Character_**"
   ]
  },
  {
   "cell_type": "code",
   "execution_count": 15,
   "id": "5dc36490",
   "metadata": {},
   "outputs": [
    {
     "name": "stdout",
     "output_type": "stream",
     "text": [
      "Enter the password: hgdfjhgsd12$A\n",
      "Password Matches\n"
     ]
    }
   ],
   "source": [
    "import re\n",
    "regex =  r\"(?=.*[a-z])(?=.*[A-Z])(?=.*\\d)(?=.*\\W)(^([a-zA-Z][\\w\\W]{7,}))\"\n",
    "pattern = re.compile(regex)\n",
    "password = (input('Enter the password: '))\n",
    "mtch = pattern.match(password)\n",
    "if mtch == None:\n",
    "    print('Password does not Match')\n",
    "else:\n",
    "    print('Password Matches')"
   ]
  },
  {
   "cell_type": "markdown",
   "id": "13707b91",
   "metadata": {},
   "source": [
    "# Question 4\n",
    "> **_Using Regex Write a program which split an email into username & domain_**"
   ]
  },
  {
   "cell_type": "code",
   "execution_count": 30,
   "id": "70a5b56a",
   "metadata": {},
   "outputs": [
    {
     "name": "stdout",
     "output_type": "stream",
     "text": [
      "Enter the email: dgffds.sfsf.fdfd@gfdfd.xxx\n",
      "User Name: dgffds.sfsf.fdfd\n",
      "Domain: gfdfd.xxx\n"
     ]
    }
   ],
   "source": [
    "import re\n",
    "\n",
    "regex = r\"(^([\\w_.+]*)@([\\w\\W]*))\"\n",
    "pattern = re.compile(regex)\n",
    "email = (input('Enter the email: '))\n",
    "matches = pattern.search(email).groups()\n",
    "print(f'User Name: {matches[1]}')\n",
    "print(f'Domain: {matches[2]}')"
   ]
  }
 ],
 "metadata": {
  "kernelspec": {
   "display_name": "Python 3 (ipykernel)",
   "language": "python",
   "name": "python3"
  },
  "language_info": {
   "codemirror_mode": {
    "name": "ipython",
    "version": 3
   },
   "file_extension": ".py",
   "mimetype": "text/x-python",
   "name": "python",
   "nbconvert_exporter": "python",
   "pygments_lexer": "ipython3",
   "version": "3.9.7"
  }
 },
 "nbformat": 4,
 "nbformat_minor": 5
}
