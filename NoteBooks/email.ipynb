{
 "cells": [
  {
   "cell_type": "code",
   "execution_count": 1,
   "id": "9ba308aa",
   "metadata": {},
   "outputs": [],
   "source": [
    "import smtplib"
   ]
  },
  {
   "cell_type": "code",
   "execution_count": 2,
   "id": "0424291d",
   "metadata": {},
   "outputs": [],
   "source": [
    "from email.message import EmailMessage"
   ]
  },
  {
   "cell_type": "code",
   "execution_count": 4,
   "id": "9c4dbccc",
   "metadata": {},
   "outputs": [],
   "source": [
    "email = EmailMessage()\n",
    "email['from'] = 'Sandeep'\n",
    "email['to'] = 'sandeep.narayan.kv@gmail.com'\n",
    "email['subject'] = 'You won 1,000,000 Dollars!!'\n",
    "email.set_content('I am a Python Master')"
   ]
  },
  {
   "cell_type": "code",
   "execution_count": 7,
   "id": "bc690349",
   "metadata": {},
   "outputs": [
    {
     "name": "stderr",
     "output_type": "stream",
     "text": [
      "send: 'ehlo [192.168.56.1]\\r\\n'\n",
      "reply: b'250-smtp.gmail.com at your service, [49.207.229.158]\\r\\n'\n",
      "reply: b'250-SIZE 35882577\\r\\n'\n",
      "reply: b'250-8BITMIME\\r\\n'\n",
      "reply: b'250-AUTH LOGIN PLAIN XOAUTH2 PLAIN-CLIENTTOKEN OAUTHBEARER XOAUTH\\r\\n'\n",
      "reply: b'250-ENHANCEDSTATUSCODES\\r\\n'\n",
      "reply: b'250-PIPELINING\\r\\n'\n",
      "reply: b'250-CHUNKING\\r\\n'\n",
      "reply: b'250 SMTPUTF8\\r\\n'\n",
      "reply: retcode (250); Msg: b'smtp.gmail.com at your service, [49.207.229.158]\\nSIZE 35882577\\n8BITMIME\\nAUTH LOGIN PLAIN XOAUTH2 PLAIN-CLIENTTOKEN OAUTHBEARER XOAUTH\\nENHANCEDSTATUSCODES\\nPIPELINING\\nCHUNKING\\nSMTPUTF8'\n",
      "send: 'AUTH PLAIN AHNhbmRpLm5hcmF5YW5AZ21haWwuY29tAGl6cm1hdnhld3JwbHNkb2o=\\r\\n'\n",
      "reply: b'235 2.7.0 Accepted\\r\\n'\n",
      "reply: retcode (235); Msg: b'2.7.0 Accepted'\n",
      "send: 'mail FROM:<Sandeep> size=206\\r\\n'\n",
      "reply: b'250 2.1.0 OK me4sm23733135pjb.26 - gsmtp\\r\\n'\n",
      "reply: retcode (250); Msg: b'2.1.0 OK me4sm23733135pjb.26 - gsmtp'\n",
      "send: 'rcpt TO:<sandeep.narayan.kv@gmail.com>\\r\\n'\n",
      "reply: b'250 2.1.5 OK me4sm23733135pjb.26 - gsmtp\\r\\n'\n",
      "reply: retcode (250); Msg: b'2.1.5 OK me4sm23733135pjb.26 - gsmtp'\n",
      "send: 'data\\r\\n'\n",
      "reply: b'354  Go ahead me4sm23733135pjb.26 - gsmtp\\r\\n'\n",
      "reply: retcode (354); Msg: b'Go ahead me4sm23733135pjb.26 - gsmtp'\n",
      "data: (354, b'Go ahead me4sm23733135pjb.26 - gsmtp')\n",
      "send: b'from: Sandeep\\r\\nto: sandeep.narayan.kv@gmail.com\\r\\nsubject: You won 1,000,000 Dollars!!\\r\\nContent-Type: text/plain; charset=\"utf-8\"\\r\\nContent-Transfer-Encoding: 7bit\\r\\nMIME-Version: 1.0\\r\\n\\r\\nI am a Python Master\\r\\n.\\r\\n'\n",
      "reply: b'250 2.0.0 OK  1644254647 me4sm23733135pjb.26 - gsmtp\\r\\n'\n",
      "reply: retcode (250); Msg: b'2.0.0 OK  1644254647 me4sm23733135pjb.26 - gsmtp'\n",
      "data: (250, b'2.0.0 OK  1644254647 me4sm23733135pjb.26 - gsmtp')\n",
      "send: 'QUIT\\r\\n'\n",
      "reply: b'221 2.0.0 closing connection me4sm23733135pjb.26 - gsmtp\\r\\n'\n",
      "reply: retcode (221); Msg: b'2.0.0 closing connection me4sm23733135pjb.26 - gsmtp'\n"
     ]
    }
   ],
   "source": [
    "with smtplib.SMTP(host='smtp.gmail.com', port=587) as server:\n",
    "    server.ehlo()\n",
    "    server.starttls()\n",
    "    server.set_debuglevel(True)\n",
    "    server.login('sandi.narayan@gmail.com', '1234567890')\n",
    "    server.send_message(email)"
   ]
  },
  {
   "cell_type": "code",
   "execution_count": null,
   "id": "4c24cb87",
   "metadata": {},
   "outputs": [],
   "source": []
  }
 ],
 "metadata": {
  "kernelspec": {
   "display_name": "Python 3 (ipykernel)",
   "language": "python",
   "name": "python3"
  },
  "language_info": {
   "codemirror_mode": {
    "name": "ipython",
    "version": 3
   },
   "file_extension": ".py",
   "mimetype": "text/x-python",
   "name": "python",
   "nbconvert_exporter": "python",
   "pygments_lexer": "ipython3",
   "version": "3.9.7"
  }
 },
 "nbformat": 4,
 "nbformat_minor": 5
}
