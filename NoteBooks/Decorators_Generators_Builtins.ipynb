{
 "cells": [
  {
   "cell_type": "code",
   "execution_count": 28,
   "id": "dbe5479c",
   "metadata": {},
   "outputs": [
    {
     "name": "stdout",
     "output_type": "stream",
     "text": [
      "\u001b[95m\u001b[1mHello World !\u001b[0m\n"
     ]
    }
   ],
   "source": [
    "class color:\n",
    "   PURPLE = '\\033[95m'\n",
    "   CYAN = '\\033[96m'\n",
    "   DARKCYAN = '\\033[36m'\n",
    "   BLUE = '\\033[94m'\n",
    "   GREEN = '\\033[92m'\n",
    "   YELLOW = '\\033[93m'\n",
    "   RED = '\\033[91m'\n",
    "   BOLD = '\\033[1m'\n",
    "   UNDERLINE = '\\033[4m'\n",
    "   END = '\\033[0m'\n",
    "\n",
    "print(color.PURPLE + color.BOLD + 'Hello World !' + color.END)"
   ]
  },
  {
   "cell_type": "markdown",
   "id": "3596b518",
   "metadata": {},
   "source": [
    "## Chain Decorators"
   ]
  },
  {
   "cell_type": "code",
   "execution_count": 29,
   "id": "4080d6a0",
   "metadata": {},
   "outputs": [],
   "source": [
    "def print_bold(fn):\n",
    "    def print_bold_wrap(*args, **kwargs):\n",
    "        return color.BOLD + fn(*args, *kwargs) + color.END\n",
    "    return print_bold_wrap\n",
    "\n",
    "def print_red(fn):\n",
    "    def print_cyan_wrap(*args, **kwargs):\n",
    "        return color.RED+fn(*args, **kwargs)+color.END\n",
    "    return print_cyan_wrap\n",
    "\n",
    "def print_unlin(fn):\n",
    "    def print_unlin_wrap(*args, **kwargs):\n",
    "        return color.UNDERLINE + fn(*args, **kwargs) + color.END\n",
    "    return print_unlin_wrap\n",
    "\n",
    "@print_bold\n",
    "@print_red\n",
    "@print_unlin\n",
    "def print_hello(name):\n",
    "    return f\"Hello {name.capitalize()}\""
   ]
  },
  {
   "cell_type": "code",
   "execution_count": 30,
   "id": "ab2a29fb",
   "metadata": {},
   "outputs": [
    {
     "name": "stdout",
     "output_type": "stream",
     "text": [
      "\u001b[1m\u001b[91m\u001b[4mHello Sandeep\u001b[0m\u001b[0m\u001b[0m\n"
     ]
    }
   ],
   "source": [
    "print(print_hello('SANDEEP'))"
   ]
  },
  {
   "cell_type": "markdown",
   "id": "b7402a09",
   "metadata": {},
   "source": [
    "## Generators"
   ]
  },
  {
   "cell_type": "markdown",
   "id": "a098f1c2",
   "metadata": {},
   "source": [
    "Create a generator that generates the squares of numbers up to some number N."
   ]
  },
  {
   "cell_type": "code",
   "execution_count": 39,
   "id": "63787ec4",
   "metadata": {},
   "outputs": [],
   "source": [
    "def gen_squares(n):\n",
    "    for i in range(1, n+1):\n",
    "        yield i**2\n",
    "\n",
    "x = gen_squares(10)"
   ]
  },
  {
   "cell_type": "code",
   "execution_count": 45,
   "id": "fcbee594",
   "metadata": {},
   "outputs": [
    {
     "name": "stdout",
     "output_type": "stream",
     "text": [
      "25\n"
     ]
    }
   ],
   "source": [
    "print(next(x))"
   ]
  },
  {
   "cell_type": "code",
   "execution_count": 46,
   "id": "18c06070",
   "metadata": {},
   "outputs": [],
   "source": [
    "y = iter(gen_squares(10))"
   ]
  },
  {
   "cell_type": "code",
   "execution_count": 50,
   "id": "4c9c8f94",
   "metadata": {},
   "outputs": [
    {
     "data": {
      "text/plain": [
       "9"
      ]
     },
     "execution_count": 50,
     "metadata": {},
     "output_type": "execute_result"
    }
   ],
   "source": [
    "next(y)"
   ]
  },
  {
   "cell_type": "code",
   "execution_count": 51,
   "id": "5dde5591",
   "metadata": {},
   "outputs": [
    {
     "name": "stdout",
     "output_type": "stream",
     "text": [
      "16\n",
      "25\n",
      "36\n",
      "49\n",
      "64\n",
      "81\n",
      "100\n"
     ]
    }
   ],
   "source": [
    "for i in y:\n",
    "    print(i)"
   ]
  },
  {
   "cell_type": "code",
   "execution_count": 52,
   "id": "0a980b37",
   "metadata": {},
   "outputs": [
    {
     "name": "stdout",
     "output_type": "stream",
     "text": [
      "1\n",
      "4\n",
      "9\n",
      "16\n",
      "25\n",
      "36\n",
      "49\n",
      "64\n",
      "81\n",
      "100\n"
     ]
    }
   ],
   "source": [
    "for i in gen_squares(10):\n",
    "    print(i)"
   ]
  },
  {
   "cell_type": "markdown",
   "id": "32e912c3",
   "metadata": {},
   "source": [
    "Create a generator that yields \"n\" random numbers between a low and high number (that are inputs).\n",
    "Note: Use the random library. For example:"
   ]
  },
  {
   "cell_type": "code",
   "execution_count": 53,
   "id": "bb8240b6",
   "metadata": {},
   "outputs": [],
   "source": [
    "from random import randint\n",
    "def gen_rand (lo, hi, n):\n",
    "    for _ in range(n):\n",
    "        yield randint (lo, hi)"
   ]
  },
  {
   "cell_type": "code",
   "execution_count": 57,
   "id": "1f32f80a",
   "metadata": {},
   "outputs": [],
   "source": [
    "rd = gen_rand(1, 25, 10)\n",
    "rnd_iter = iter(gen_rand(1, 25, 10))"
   ]
  },
  {
   "cell_type": "code",
   "execution_count": 60,
   "id": "770afda7",
   "metadata": {},
   "outputs": [
    {
     "data": {
      "text/plain": [
       "8"
      ]
     },
     "execution_count": 60,
     "metadata": {},
     "output_type": "execute_result"
    }
   ],
   "source": [
    "next(rd)"
   ]
  },
  {
   "cell_type": "code",
   "execution_count": 61,
   "id": "30d398bb",
   "metadata": {},
   "outputs": [
    {
     "data": {
      "text/plain": [
       "3"
      ]
     },
     "execution_count": 61,
     "metadata": {},
     "output_type": "execute_result"
    }
   ],
   "source": [
    "next(rnd_iter)"
   ]
  },
  {
   "cell_type": "code",
   "execution_count": 62,
   "id": "6346dfe9",
   "metadata": {},
   "outputs": [
    {
     "name": "stdout",
     "output_type": "stream",
     "text": [
      "6\n",
      "1\n",
      "1\n",
      "7\n",
      "14\n",
      "12\n",
      "9\n",
      "1\n",
      "15\n"
     ]
    }
   ],
   "source": [
    "for i in rnd_iter:\n",
    "    print(i)"
   ]
  },
  {
   "cell_type": "code",
   "execution_count": 63,
   "id": "a3c0f3c5",
   "metadata": {},
   "outputs": [
    {
     "name": "stdout",
     "output_type": "stream",
     "text": [
      "12\n",
      "7\n",
      "2\n",
      "20\n",
      "7\n",
      "20\n",
      "4\n",
      "7\n",
      "14\n"
     ]
    }
   ],
   "source": [
    "for i in rd:\n",
    "    print(i)"
   ]
  },
  {
   "cell_type": "markdown",
   "id": "b3b83b59",
   "metadata": {},
   "source": [
    "Use the iter() function to convert the string below into an iterator:"
   ]
  },
  {
   "cell_type": "code",
   "execution_count": 73,
   "id": "64fd60bd",
   "metadata": {},
   "outputs": [],
   "source": [
    "s_iter = iter('hello')"
   ]
  },
  {
   "cell_type": "code",
   "execution_count": 74,
   "id": "b0f9a8eb",
   "metadata": {},
   "outputs": [
    {
     "data": {
      "text/plain": [
       "<str_iterator at 0x21f31180430>"
      ]
     },
     "execution_count": 74,
     "metadata": {},
     "output_type": "execute_result"
    }
   ],
   "source": [
    "s_iter"
   ]
  },
  {
   "cell_type": "code",
   "execution_count": 75,
   "id": "386ebfbc",
   "metadata": {},
   "outputs": [
    {
     "name": "stdout",
     "output_type": "stream",
     "text": [
      "h\n",
      "e\n",
      "l\n",
      "l\n",
      "o\n"
     ]
    }
   ],
   "source": [
    "for c in s_iter:\n",
    "    print(c)"
   ]
  },
  {
   "cell_type": "markdown",
   "id": "cdc9fc17",
   "metadata": {},
   "source": [
    "Can you explain what gencomp is in the code below? (Note: We never covered this in lecture! You will have to do some Googling/Stack Overflowing!)"
   ]
  },
  {
   "cell_type": "code",
   "execution_count": 76,
   "id": "f6da1023",
   "metadata": {},
   "outputs": [
    {
     "name": "stdout",
     "output_type": "stream",
     "text": [
      "4\n",
      "5\n"
     ]
    }
   ],
   "source": [
    "my_list = [1,2,3,4,5]\n",
    "\n",
    "gencomp = (item for item in my_list if item > 3)\n",
    "\n",
    "for item in gencomp:\n",
    "    print(item)"
   ]
  },
  {
   "cell_type": "code",
   "execution_count": 78,
   "id": "3bbad0f3",
   "metadata": {},
   "outputs": [
    {
     "name": "stdout",
     "output_type": "stream",
     "text": [
      "<generator object <genexpr> at 0x0000021F304396D0>\n"
     ]
    }
   ],
   "source": [
    "print(gencomp)"
   ]
  },
  {
   "cell_type": "code",
   "execution_count": 85,
   "id": "982548b4",
   "metadata": {},
   "outputs": [],
   "source": [
    "nums = (i for i in range(10))"
   ]
  },
  {
   "cell_type": "code",
   "execution_count": 86,
   "id": "56c45023",
   "metadata": {},
   "outputs": [
    {
     "data": {
      "text/plain": [
       "<generator object <genexpr> at 0x0000021F30439F90>"
      ]
     },
     "execution_count": 86,
     "metadata": {},
     "output_type": "execute_result"
    }
   ],
   "source": [
    "nums"
   ]
  },
  {
   "cell_type": "markdown",
   "id": "9be8ef7b",
   "metadata": {},
   "source": [
    "## Built-in Functions"
   ]
  },
  {
   "cell_type": "markdown",
   "id": "f107ee0f",
   "metadata": {},
   "source": [
    "##### Problem 1\n",
    "\n",
    "Use map() to create a function which finds the length of each word in the phrase (broken by spaces) and returns the values in a list.\n",
    "\n",
    "The function will have an input of a string, and output a list of integers."
   ]
  },
  {
   "cell_type": "code",
   "execution_count": 136,
   "id": "f17a7172",
   "metadata": {},
   "outputs": [],
   "source": [
    "def word_lengths(phrase):\n",
    "    \n",
    "    word_list = phrase.split()\n",
    "    fn = lambda x: len(x)\n",
    "    print(list(map(fn, word_list)))"
   ]
  },
  {
   "cell_type": "code",
   "execution_count": 137,
   "id": "b48c9a10",
   "metadata": {},
   "outputs": [
    {
     "name": "stdout",
     "output_type": "stream",
     "text": [
      "[3, 4, 3, 3, 5, 2, 4, 6]\n"
     ]
    }
   ],
   "source": [
    "word_lengths('How long are the words in this phrase')"
   ]
  },
  {
   "cell_type": "markdown",
   "id": "b8c0b899",
   "metadata": {},
   "source": [
    "### Problem 2\n",
    "\n",
    "Use reduce() to take a list of digits and return the number that they correspond to. For example, [1, 2, 3] corresponds to one-hundred-twenty-three.\n",
    "Do not convert the integers to strings!"
   ]
  },
  {
   "cell_type": "code",
   "execution_count": 134,
   "id": "3966aaa8",
   "metadata": {},
   "outputs": [],
   "source": [
    "from functools import reduce\n",
    "\n",
    "def digits_to_num(digits):\n",
    "    \n",
    "    fn = lambda x: str(x)\n",
    "    nums = list(map(fn, digits))\n",
    "    print(int(reduce(lambda x,y: x+y, nums)))"
   ]
  },
  {
   "cell_type": "code",
   "execution_count": 135,
   "id": "9d242f4c",
   "metadata": {},
   "outputs": [
    {
     "name": "stdout",
     "output_type": "stream",
     "text": [
      "34321\n"
     ]
    }
   ],
   "source": [
    "digits_to_num([3,4,3,2,1])"
   ]
  },
  {
   "cell_type": "markdown",
   "id": "526f1791",
   "metadata": {},
   "source": [
    "### Problem 3\n",
    "Use filter to return the words from a list of words which start with a target letter."
   ]
  },
  {
   "cell_type": "code",
   "execution_count": 132,
   "id": "d94198ad",
   "metadata": {},
   "outputs": [],
   "source": [
    "def filter_words(word_list, letter):\n",
    "    print(list(filter(lambda x: x[0] == letter, word_list)))"
   ]
  },
  {
   "cell_type": "code",
   "execution_count": 133,
   "id": "28831dea",
   "metadata": {},
   "outputs": [
    {
     "name": "stdout",
     "output_type": "stream",
     "text": [
      "['hello', 'ham', 'hi', 'heart']\n"
     ]
    }
   ],
   "source": [
    "l = ['hello','are','cat','dog','ham','hi','go','to','heart']\n",
    "filter_words(l,'h')"
   ]
  },
  {
   "cell_type": "markdown",
   "id": "e736b149",
   "metadata": {},
   "source": [
    "### Problem 4\n",
    "\n",
    "Use zip() and a list comprehension to return a list of the same length where each value is the two strings from L1 and L2 concatenated together with connector between them. Look at the example output below:"
   ]
  },
  {
   "cell_type": "code",
   "execution_count": 130,
   "id": "21d8df1f",
   "metadata": {},
   "outputs": [],
   "source": [
    "def concatenate(L1, L2, connector):\n",
    "    print([a + connector + b for a, b in zip(L1, L2)])"
   ]
  },
  {
   "cell_type": "code",
   "execution_count": 131,
   "id": "2b0aa104",
   "metadata": {},
   "outputs": [
    {
     "name": "stdout",
     "output_type": "stream",
     "text": [
      "['A-a', 'B-b']\n"
     ]
    }
   ],
   "source": [
    "concatenate(['A','B'],['a','b'],'-')"
   ]
  },
  {
   "cell_type": "markdown",
   "id": "73966aaa",
   "metadata": {},
   "source": [
    "### Problem 5\n",
    "Use enumerate() and other skills to return a dictionary which has the values of the list as keys and the index as the value. You may assume that a value will only appear once in the given list."
   ]
  },
  {
   "cell_type": "code",
   "execution_count": 128,
   "id": "9bfb52b5",
   "metadata": {},
   "outputs": [],
   "source": [
    "def d_list(L):\n",
    "    print({v:i for i, v in enumerate(L)})"
   ]
  },
  {
   "cell_type": "code",
   "execution_count": 129,
   "id": "54509ab4",
   "metadata": {},
   "outputs": [
    {
     "name": "stdout",
     "output_type": "stream",
     "text": [
      "{'a': 0, 'b': 1, 'c': 2}\n"
     ]
    }
   ],
   "source": [
    "d_list(['a','b','c'])"
   ]
  },
  {
   "cell_type": "markdown",
   "id": "6b99d4dc",
   "metadata": {},
   "source": [
    "### Problem 6\n",
    "Use enumerate() and other skills from above to return the count of the number of items in the list whose value equals its index."
   ]
  },
  {
   "cell_type": "code",
   "execution_count": 126,
   "id": "a3ce2b55",
   "metadata": {},
   "outputs": [],
   "source": [
    "def count_match_index(L):\n",
    "    print(len([v for i, v in enumerate(L) if i==v]))"
   ]
  },
  {
   "cell_type": "code",
   "execution_count": 127,
   "id": "db7ee74b",
   "metadata": {},
   "outputs": [
    {
     "name": "stdout",
     "output_type": "stream",
     "text": [
      "4\n"
     ]
    }
   ],
   "source": [
    "count_match_index([0,2,2,1,5,5,6,10])"
   ]
  }
 ],
 "metadata": {
  "kernelspec": {
   "display_name": "Python 3 (ipykernel)",
   "language": "python",
   "name": "python3"
  },
  "language_info": {
   "codemirror_mode": {
    "name": "ipython",
    "version": 3
   },
   "file_extension": ".py",
   "mimetype": "text/x-python",
   "name": "python",
   "nbconvert_exporter": "python",
   "pygments_lexer": "ipython3",
   "version": "3.9.7"
  }
 },
 "nbformat": 4,
 "nbformat_minor": 5
}
