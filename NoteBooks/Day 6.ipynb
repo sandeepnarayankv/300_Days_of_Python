{
 "cells": [
  {
   "cell_type": "markdown",
   "id": "cfe3c069",
   "metadata": {},
   "source": [
    "# Question 85\n",
    "\n",
    "> **_By using list comprehension, please write a program to print the list after removing the 0th,4th,5th numbers in [12,24,35,70,88,120,155]._**\n",
    "\n",
    "---\n",
    "\n",
    "### Hints\n",
    "\n",
    "> **_Use list comprehension to delete a bunch of element from a list.Use enumerate() to get (index, value) tuple._**\n"
   ]
  },
  {
   "cell_type": "code",
   "execution_count": 1,
   "id": "2db1fe15",
   "metadata": {},
   "outputs": [
    {
     "name": "stdout",
     "output_type": "stream",
     "text": [
      "[24, 35, 70, 155]\n"
     ]
    }
   ],
   "source": [
    "l = [12,24,35,70,88,120,155]\n",
    "f = [v for i, v in enumerate(l) if i not in (0, 4, 5)]\n",
    "print(f)"
   ]
  },
  {
   "cell_type": "markdown",
   "id": "9174d077",
   "metadata": {},
   "source": [
    "# Question 86\n",
    "\n",
    "> **_By using list comprehension, please write a program to print the list after removing the value 24 in [12,24,35,24,88,120,155]._**\n",
    "\n",
    "---\n",
    "\n",
    "### Hints\n",
    "\n",
    "> **_Use list's remove method to delete a value._**"
   ]
  },
  {
   "cell_type": "code",
   "execution_count": 3,
   "id": "f917db83",
   "metadata": {},
   "outputs": [
    {
     "name": "stdout",
     "output_type": "stream",
     "text": [
      "[12, 35, 88, 120, 155]\n"
     ]
    }
   ],
   "source": [
    "l = [12,24,35,24,88,120,155]\n",
    "nl = [x for x in l if x!=24]\n",
    "print(nl)"
   ]
  },
  {
   "cell_type": "markdown",
   "id": "13bd0551",
   "metadata": {},
   "source": [
    "# Question 87\n",
    "\n",
    "> **_With two given lists [1,3,6,78,35,55] and [12,24,35,24,88,120,155], write a program to make a list whose elements are intersection of the above given lists._**\n",
    "\n",
    "---\n",
    "\n",
    "### Hints\n",
    "\n",
    "> **_Use set() and \"&=\" to do set intersection operation._**\n"
   ]
  },
  {
   "cell_type": "code",
   "execution_count": 4,
   "id": "3f9f6bfe",
   "metadata": {},
   "outputs": [
    {
     "name": "stdout",
     "output_type": "stream",
     "text": [
      "[35]\n"
     ]
    }
   ],
   "source": [
    "l1 = [1,3,6,78,35,55]\n",
    "l2 = [12,24,35,24,88,120,155]\n",
    "nl = list(set(l1).intersection(set(l2)))\n",
    "print(nl)"
   ]
  },
  {
   "cell_type": "markdown",
   "id": "e3962333",
   "metadata": {},
   "source": [
    "# Question 88\n",
    "\n",
    "> **_With a given list [12,24,35,24,88,120,155,88,120,155], write a program to print this list after removing all duplicate values with original order reserved._**\n",
    "\n",
    "---\n",
    "\n",
    "### Hints\n",
    "\n",
    "> **_Use set() to store a number of values without duplicate._**\n"
   ]
  },
  {
   "cell_type": "code",
   "execution_count": 9,
   "id": "47a9f8ae",
   "metadata": {},
   "outputs": [
    {
     "name": "stdout",
     "output_type": "stream",
     "text": [
      "[155, 120, 88, 35, 24, 12]\n"
     ]
    }
   ],
   "source": [
    "li = [12,24,35,24,88,120,155,88,120,155]\n",
    "lir = sorted(list(set(li[::-1])), reverse = True)\n",
    "print(lir)"
   ]
  },
  {
   "cell_type": "markdown",
   "id": "1c86aadc",
   "metadata": {},
   "source": [
    "# Question 89\n",
    "\n",
    "> **_Define a class Person and its two child classes: Male and Female. All classes have a method \"getGender\" which can print \"Male\" for Male class and \"Female\" for Female class._**\n",
    "\n",
    "---\n",
    "\n",
    "### Hints\n",
    "\n",
    "> **_Use Subclass(Parentclass) to define a child class._**\n"
   ]
  },
  {
   "cell_type": "code",
   "execution_count": 12,
   "id": "c57818cf",
   "metadata": {},
   "outputs": [
    {
     "name": "stdout",
     "output_type": "stream",
     "text": [
      "Male\n",
      "Female\n"
     ]
    }
   ],
   "source": [
    "class Person():\n",
    "    def __init__(self):\n",
    "        self.gender = 'Unknown'\n",
    "    def getGender(self):\n",
    "        print(self.gender)\n",
    "        \n",
    "class Male(Person):\n",
    "    def __init__(self):\n",
    "        self.gender = 'Male'\n",
    "        \n",
    "class Female(Person):\n",
    "    def __init__(self):\n",
    "        self.gender = 'Female'\n",
    "        \n",
    "san = Male()\n",
    "pre = Female()\n",
    "\n",
    "san.getGender()\n",
    "pre.getGender()"
   ]
  },
  {
   "cell_type": "markdown",
   "id": "ef92f11f",
   "metadata": {},
   "source": [
    "# Question 90\n",
    "\n",
    "> **_Please write a program which count and print the numbers of each character in a string input by console._**\n",
    "\n",
    "> **_Example:\n",
    "> If the following string is given as input to the program:_**\n",
    "\n",
    "```\n",
    "abcdefgabc\n",
    "```\n",
    "\n",
    "> **_Then, the output of the program should be:_**\n",
    "\n",
    "```\n",
    "a,2\n",
    "c,2\n",
    "b,2\n",
    "e,1\n",
    "d,1\n",
    "g,1\n",
    "f,1\n",
    "```\n",
    "\n",
    "### Hints\n",
    "\n",
    "> **_Use dict to store key/value pairs.\n",
    "> Use dict.get() method to lookup a key with default value._**\n"
   ]
  },
  {
   "cell_type": "code",
   "execution_count": 15,
   "id": "1011e345",
   "metadata": {},
   "outputs": [
    {
     "name": "stdout",
     "output_type": "stream",
     "text": [
      "Enter a String: abcdefgabc\n",
      "a,2\n",
      "b,2\n",
      "c,2\n",
      "d,1\n",
      "e,1\n",
      "f,1\n",
      "g,1\n"
     ]
    }
   ],
   "source": [
    "s = input('Enter a String: ')\n",
    "d = dict()\n",
    "for c in s:\n",
    "    n = s.count(c)\n",
    "    if c not in d.keys():\n",
    "        d[c] = n\n",
    "for k, v in d.items():\n",
    "    print(f'{k},{v}')"
   ]
  },
  {
   "cell_type": "markdown",
   "id": "1c1a0e20",
   "metadata": {},
   "source": [
    "# Question 91\n",
    "\n",
    "> **_Please write a program which accepts a string from console and print it in reverse order._**\n",
    "\n",
    "> **Example:\n",
    "> If the following string is given as input to the program:\\***\n",
    "\n",
    "```\n",
    "rise to vote sir\n",
    "```\n",
    "\n",
    "> **_Then, the output of the program should be:_**\n",
    "\n",
    "```\n",
    "ris etov ot esir\n",
    "```\n",
    "\n",
    "### Hints\n",
    "\n",
    "> **_Use list[::-1] to iterate a list in a reverse order._**\n"
   ]
  },
  {
   "cell_type": "code",
   "execution_count": 16,
   "id": "e5f8f1ed",
   "metadata": {},
   "outputs": [
    {
     "name": "stdout",
     "output_type": "stream",
     "text": [
      "Enter a String: rise to vote sir\n",
      "ris etov ot esir\n"
     ]
    }
   ],
   "source": [
    "s = input('Enter a String: ')\n",
    "print(s[::-1])"
   ]
  },
  {
   "cell_type": "markdown",
   "id": "dcc37998",
   "metadata": {},
   "source": [
    "# Question 92\n",
    "\n",
    "> **_Please write a program which accepts a string from console and print the characters that have even indexes._**\n",
    "\n",
    "> **_Example:\n",
    "> If the following string is given as input to the program:_**\n",
    "\n",
    "```\n",
    "H1e2l3l4o5w6o7r8l9d\n",
    "```\n",
    "\n",
    "> **_Then, the output of the program should be:_**\n",
    "\n",
    "```\n",
    "Helloworld\n",
    "```\n",
    "\n",
    "### Hints\n",
    "\n",
    "> **_Use list[::2] to iterate a list by step 2._**"
   ]
  },
  {
   "cell_type": "code",
   "execution_count": 19,
   "id": "1d530e13",
   "metadata": {},
   "outputs": [
    {
     "name": "stdout",
     "output_type": "stream",
     "text": [
      "Enter a String: H1e2l3l4o5w6o7r8l9d\n",
      "Helloworld\n"
     ]
    }
   ],
   "source": [
    "s = input('Enter a String: ')\n",
    "l = [v for i,v in enumerate(s) if i%2 == 0]\n",
    "print(''.join(l))"
   ]
  },
  {
   "cell_type": "markdown",
   "id": "064dac86",
   "metadata": {},
   "source": [
    "# Question 93\n",
    "\n",
    "> **_Please write a program which prints all permutations of [1,2,3]_**\n",
    "\n",
    "---\n",
    "\n",
    "### Hints\n",
    "\n",
    "> **_Use itertools.permutations() to get permutations of list._**\n"
   ]
  },
  {
   "cell_type": "code",
   "execution_count": 37,
   "id": "8258f204",
   "metadata": {},
   "outputs": [
    {
     "name": "stdout",
     "output_type": "stream",
     "text": [
      "[(1,), (2,), (3,), (1, 2), (1, 3), (2, 1), (2, 3), (3, 1), (3, 2), (1, 2, 3), (1, 3, 2), (2, 1, 3), (2, 3, 1), (3, 1, 2), (3, 2, 1)]\n"
     ]
    }
   ],
   "source": [
    "import itertools as i\n",
    "l = [1,2,3]\n",
    "nl = list()\n",
    "for x in range(1, len(l)+1):\n",
    "    for t in list(i.permutations(l, x)):\n",
    "        nl.append(t)\n",
    "print(nl)"
   ]
  },
  {
   "cell_type": "markdown",
   "id": "81c02cbe",
   "metadata": {},
   "source": [
    "# Question 94\n",
    "\n",
    "> **_Write a program to solve a classic ancient Chinese puzzle:\n",
    "> We count 35 heads and 94 legs among the chickens and rabbits in a farm. How many rabbits and how many chickens do we have?_**\n",
    "\n",
    "---\n",
    "\n",
    "### Hints\n",
    "\n",
    "> **_Use for loop to iterate all possible solutions._**\n"
   ]
  },
  {
   "cell_type": "code",
   "execution_count": 39,
   "id": "0cc13a32",
   "metadata": {},
   "outputs": [
    {
     "name": "stdout",
     "output_type": "stream",
     "text": [
      "Heads: 35\n",
      "Legs: 94\n",
      "Rabbits: 12, Chicken: 23\n"
     ]
    }
   ],
   "source": [
    "h = int(input('Heads: '))\n",
    "l = int(input('Legs: '))\n",
    "total = h\n",
    "combos = list()\n",
    "legs_of_animals = {'Rabbit': 4, 'Chicken': 2}\n",
    "for i in range(1, total+1):\n",
    "    rabbit_legs = legs_of_animals['Rabbit']*i\n",
    "    chicken_legs = legs_of_animals['Chicken']*(total - i)\n",
    "    total_legs = rabbit_legs+chicken_legs\n",
    "    if total_legs == l:\n",
    "        combos.append((i, total-i))\n",
    "        \n",
    "for r, c in combos:\n",
    "    print(f'Rabbits: {r}, Chicken: {c}')"
   ]
  },
  {
   "cell_type": "markdown",
   "id": "ffa45143",
   "metadata": {},
   "source": [
    "# Question 95\n",
    "\n",
    "> **_Given the participants' score sheet for your University Sports Day, you are required to find the runner-up score. You are given scores. Store them in a list and find the score of the runner-up._**\n",
    "\n",
    "> **_If the following string is given as input to the program:_**\n",
    ">\n",
    "> ```\n",
    "> 5\n",
    "> 2 3 6 6 5\n",
    "> ```\n",
    ">\n",
    "> **_Then, the output of the program should be:_**\n",
    ">\n",
    "> ```\n",
    "> 5\n",
    "> ```\n",
    "\n",
    "### Hints\n",
    "\n",
    "> **_Make the scores unique and then find 2nd best number_**\n"
   ]
  },
  {
   "cell_type": "code",
   "execution_count": 42,
   "id": "292fe42b",
   "metadata": {},
   "outputs": [
    {
     "name": "stdout",
     "output_type": "stream",
     "text": [
      "N: 5\n",
      "Enter the values: 2 3 6 6 5\n",
      "5\n"
     ]
    }
   ],
   "source": [
    "n = int(input('N: '))\n",
    "l = [int(i) for i in input('Enter the values: ').split()]\n",
    "rs = sorted(list(set(l)))[-2]\n",
    "print(rs)"
   ]
  },
  {
   "cell_type": "markdown",
   "id": "da6ccdb8",
   "metadata": {},
   "source": [
    "# Question 96\n",
    "\n",
    "> **_You are given a string S and width W.\n",
    "> Your task is to wrap the string into a paragraph of width._**\n",
    "\n",
    "> **_If the following string is given as input to the program:_**\n",
    ">\n",
    "> ```\n",
    "> ABCDEFGHIJKLIMNOQRSTUVWXYZ\n",
    "> 4\n",
    "> ```\n",
    ">\n",
    "> **_Then, the output of the program should be:_**\n",
    ">\n",
    "> ```\n",
    "> ABCD\n",
    "> EFGH\n",
    "> IJKL\n",
    "> IMNO\n",
    "> QRST\n",
    "> UVWX\n",
    "> YZ\n",
    "> ```\n",
    "\n",
    "### Hints\n",
    "\n",
    "> **_Use wrap function of textwrap module_**\n"
   ]
  },
  {
   "cell_type": "code",
   "execution_count": 47,
   "id": "fa500ea2",
   "metadata": {},
   "outputs": [
    {
     "name": "stdout",
     "output_type": "stream",
     "text": [
      "S: ABCDEFGHIJKLIMNOQRSTUVWXYZ\n",
      "W: 4\n",
      "ABCD\n",
      "EFGH\n",
      "IJKL\n",
      "IMNO\n",
      "QRST\n",
      "UVWX\n",
      "YZ\n"
     ]
    }
   ],
   "source": [
    "import textwrap as t\n",
    "s = input('S: ')\n",
    "w = int(input('W: '))\n",
    "paras= t.wrap(s, w)\n",
    "for p in paras:\n",
    "    print(p)"
   ]
  },
  {
   "cell_type": "markdown",
   "id": "6339b925",
   "metadata": {},
   "source": [
    "# Question 97\n",
    "\n",
    "> **_You are given an integer, N. Your task is to print an alphabet rangoli of size N. (Rangoli is a form of Indian folk art based on creation of patterns.)_**\n",
    "\n",
    "> **_Different sizes of alphabet rangoli are shown below:_**\n",
    ">\n",
    "> ```\n",
    "> #size 3\n",
    ">\n",
    "> ----c----\n",
    "> --c-b-c--\n",
    "> c-b-a-b-c\n",
    "> --c-b-c--\n",
    "> ----c----\n",
    ">\n",
    "> #size 5\n",
    ">\n",
    "> --------e--------\n",
    "> ------e-d-e------\n",
    "> ----e-d-c-d-e----\n",
    "> --e-d-c-b-c-d-e--\n",
    "> e-d-c-b-a-b-c-d-e\n",
    "> --e-d-c-b-c-d-e--\n",
    "> ----e-d-c-d-e----\n",
    "> ------e-d-e------\n",
    "> --------e--------\n",
    "> ```\n",
    "\n",
    "### Hints\n",
    "\n",
    "> **_First print the half of the Rangoli in the given way and save each line in a list. Then print the list in reverse order to get the rest._**\n"
   ]
  },
  {
   "cell_type": "code",
   "execution_count": 60,
   "id": "c070d085",
   "metadata": {},
   "outputs": [
    {
     "name": "stdout",
     "output_type": "stream",
     "text": [
      "Size of Pyramid: 2\n",
      "--b--\n",
      "b-a-b\n",
      "--b--\n"
     ]
    }
   ],
   "source": [
    "import string\n",
    "n = int(input('Size of Pyramid: '))\n",
    "line_nos = (n*2) - 1\n",
    "line_size = (line_nos)*2 - 1\n",
    "chars = string.ascii_lowercase\n",
    "ans = []\n",
    "for i in range(n):\n",
    "    left = '-'.join(chars[n - i - 1:n])\n",
    "    mid = left[-1:0:-1] + left\n",
    "    final = mid.center(line_size, '-')\n",
    "    ans.append(final)\n",
    "\n",
    "if len(ans) > 1:\n",
    "    for i in ans[n - 2::-1]:\n",
    "        ans.append(i)\n",
    "ans = '\\n'.join(ans)\n",
    "print(ans)"
   ]
  },
  {
   "cell_type": "markdown",
   "id": "3e5fa95d",
   "metadata": {},
   "source": [
    "# Question 98\n",
    "\n",
    "> **_You are given a date. Your task is to find what the day is on that date._**\n",
    "\n",
    "**Input**\n",
    "\n",
    "> **_A single line of input containing the space separated month, day and year, respectively, in MM DD YYYY format._**\n",
    ">\n",
    "> ```\n",
    "> 08 05 2015\n",
    "> ```\n",
    "\n",
    "**Output**\n",
    "\n",
    "> **_Output the correct day in capital letters._**\n",
    ">\n",
    "> ```\n",
    "> WEDNESDAY\n",
    "> ```\n",
    "\n",
    "---\n",
    "\n",
    "### Hints\n",
    "\n",
    "> **_Use weekday function of calendar module_**\n"
   ]
  },
  {
   "cell_type": "code",
   "execution_count": 65,
   "id": "34ed6b4e",
   "metadata": {},
   "outputs": [
    {
     "name": "stdout",
     "output_type": "stream",
     "text": [
      "08 05 2015\n",
      "['08', '05', '2015']\n",
      "WEDNESDAY\n"
     ]
    }
   ],
   "source": [
    "import calendar as c\n",
    "week_days = {0: 'MONDAY',\n",
    "            1: 'TUESDAY',\n",
    "             2: 'WEDNESDAY',\n",
    "            3: 'THURSDAY',\n",
    "            4: 'FRIDAY',\n",
    "            5: 'SATURDAY',\n",
    "            6: 'SUNDAY'}\n",
    "dt = input().split()\n",
    "print(dt)\n",
    "wk = c.weekday(int(dt[2]), int(dt[0]), int(dt[1]))\n",
    "print(week_days[wk])"
   ]
  },
  {
   "cell_type": "markdown",
   "id": "09d848fe",
   "metadata": {},
   "source": [
    "# Question 99\n",
    "\n",
    "> **_Given 2 sets of integers, M and N, print their symmetric difference in ascending order. The term symmetric difference indicates those values that exist in either M or N but do not exist in both._**\n",
    "\n",
    "**Input**\n",
    "\n",
    "> **_The first line of input contains an integer, M.The second line contains M space-separated integers.The third line contains an integer, N.The fourth line contains N space-separated integers._**\n",
    ">\n",
    "> ```\n",
    "> 4\n",
    "> 2 4 5 9\n",
    "> 4\n",
    "> 2 4 11 12\n",
    "> ```\n",
    "\n",
    "**Output**\n",
    "\n",
    "> **_Output the symmetric difference integers in ascending order, one per line._**\n",
    ">\n",
    "> ```\n",
    "> 5\n",
    "> 9\n",
    "> 11\n",
    "> 12\n",
    "> ```\n",
    "\n",
    "---\n",
    "\n",
    "### Hints\n",
    "\n",
    "> **_Use \\'^\\' to make symmetric difference operation._**\n"
   ]
  },
  {
   "cell_type": "code",
   "execution_count": 67,
   "id": "d926a290",
   "metadata": {},
   "outputs": [
    {
     "name": "stdout",
     "output_type": "stream",
     "text": [
      "Enter S11 len: 4\n",
      "Enter S1: 2 4 5 9\n",
      "Enter S2 len: 4\n",
      "Enter S2: 2 4 11 12\n",
      "5\n",
      "9\n",
      "11\n",
      "12\n"
     ]
    }
   ],
   "source": [
    "len1 = int(input('Enter S11 len: '))\n",
    "s1 = set([int(s) for s in input('Enter S1: ').split()])\n",
    "len2 = int(input('Enter S2 len: '))\n",
    "s2 = set([int(s) for s in input('Enter S2: ').split()])\n",
    "\n",
    "s = set.symmetric_difference(s1, s2)\n",
    "for c in s:\n",
    "    print(c)"
   ]
  },
  {
   "cell_type": "markdown",
   "id": "63e32fa8",
   "metadata": {},
   "source": [
    "# Question 100\n",
    "\n",
    "> **_You are given words. Some words may repeat. For each word, output its number of occurrences. The output order should correspond with the input order of appearance of the word. See the sample input/output for clarification._**\n",
    "\n",
    "> **_If the following string is given as input to the program:_**\n",
    ">\n",
    "> ```\n",
    "> 4\n",
    "> bcdef\n",
    "> abcdefg\n",
    "> bcde\n",
    "> bcdef\n",
    "> ```\n",
    ">\n",
    "> **_Then, the output of the program should be:_**\n",
    ">\n",
    "> ```\n",
    "> 3\n",
    "> 2 1 1\n",
    "> ```\n",
    "\n",
    "### Hints\n",
    "\n",
    "> **_Make a list to get the input order and a dictionary to count the word frequency_**\n"
   ]
  },
  {
   "cell_type": "code",
   "execution_count": 73,
   "id": "58c81d03",
   "metadata": {},
   "outputs": [
    {
     "name": "stdout",
     "output_type": "stream",
     "text": [
      "4\n",
      "bcde\n",
      "dhgfdhs\n",
      "bcde\n",
      "bcde\n",
      "2\n",
      "3 1 "
     ]
    }
   ],
   "source": [
    "n = int(input())\n",
    "\n",
    "wl = list()\n",
    "wd = dict()\n",
    "\n",
    "for i in range(n):\n",
    "    w = input()\n",
    "    if w not in wd:\n",
    "        wl.append(w)\n",
    "    wd[w] = wd.get(w, 0) + 1\n",
    "\n",
    "print(len(wl))\n",
    "for w in wl:\n",
    "    print(wd[w], end=' ')"
   ]
  },
  {
   "cell_type": "markdown",
   "id": "c38d2576",
   "metadata": {},
   "source": [
    "# Question 101\n",
    "\n",
    "> **_You are given a string.Your task is to count the frequency of letters of the string and print the letters in descending order of frequency._**\n",
    "\n",
    "> **_If the following string is given as input to the program:_**\n",
    ">\n",
    "> ```\n",
    "> aabbbccde\n",
    "> ```\n",
    ">\n",
    "> **_Then, the output of the program should be:_**\n",
    ">\n",
    "> ```\n",
    "> b 3\n",
    "> a 2\n",
    "> c 2\n",
    "> d 1\n",
    "> e 1\n",
    "> ```\n",
    "\n",
    "### Hints\n",
    "\n",
    "> **_Count frequency with dictionary and sort by Value from dictionary Items_**\n"
   ]
  },
  {
   "cell_type": "code",
   "execution_count": 88,
   "id": "1e205236",
   "metadata": {},
   "outputs": [
    {
     "name": "stdout",
     "output_type": "stream",
     "text": [
      "S: aabbbccde\n",
      "b 3\n",
      "a 2\n",
      "c 2\n",
      "d 1\n",
      "e 1\n"
     ]
    }
   ],
   "source": [
    "s = input('S: ')\n",
    "d = dict()\n",
    "d = {c: s.count(c) for c in s if c not in d.keys()}\n",
    "dl = list(d.items())\n",
    "sorted_dl = sorted(dl, key = lambda x: x[1], reverse=True)    \n",
    "for t in sorted_dl:\n",
    "    print(t[0], t[1])"
   ]
  },
  {
   "cell_type": "markdown",
   "id": "5a978d98",
   "metadata": {},
   "source": [
    "# Question 102\n",
    "\n",
    "> **_Write a Python program that accepts a string and calculate the number of digits and letters._**\n",
    "\n",
    "**Input**\n",
    "\n",
    "> ```\n",
    "> Hello321Bye360\n",
    "> ```\n",
    "\n",
    "**Output**\n",
    "\n",
    "> ```\n",
    "> Digit - 6\n",
    "> Letter - 8\n",
    "> ```\n",
    "\n",
    "---\n",
    "\n",
    "### Hints\n",
    "\n",
    "> **_Use isdigit() and isalpha() function_**\n"
   ]
  },
  {
   "cell_type": "code",
   "execution_count": 89,
   "id": "5267ca44",
   "metadata": {},
   "outputs": [
    {
     "name": "stdout",
     "output_type": "stream",
     "text": [
      "S: Hello321Bye360\n",
      "Digit - 6\n",
      "Letter - 8\n"
     ]
    }
   ],
   "source": [
    "s = input('S: ')\n",
    "l = 0\n",
    "d = 0\n",
    "for c in s:\n",
    "    if c.isalpha():\n",
    "        l+=1\n",
    "    elif c.isdigit():\n",
    "        d+=1\n",
    "    else:\n",
    "        pass\n",
    "print(f'Digit - {d}')\n",
    "print(f'Letter - {l}')\n"
   ]
  },
  {
   "cell_type": "markdown",
   "id": "03da1a4d",
   "metadata": {},
   "source": [
    "# Question 103\n",
    "\n",
    "> **_Given a number N.Find Sum of 1 to N Using Recursion_**\n",
    "\n",
    "**Input**\n",
    "\n",
    "> ```\n",
    "> 5\n",
    "> ```\n",
    "\n",
    "**Output**\n",
    "\n",
    "> ```\n",
    "> 15\n",
    "> ```\n",
    "\n",
    "---\n",
    "\n",
    "### Hints\n",
    "\n",
    "> **_Make a recursive function to get the sum_**\n"
   ]
  },
  {
   "cell_type": "code",
   "execution_count": 99,
   "id": "178a6c28",
   "metadata": {},
   "outputs": [
    {
     "name": "stdout",
     "output_type": "stream",
     "text": [
      "N: 5\n",
      "15\n"
     ]
    }
   ],
   "source": [
    "def recursive_sum (n):\n",
    "    if n <=1:\n",
    "        return n\n",
    "    else:\n",
    "        return n + recursive_sum(n-1)\n",
    "\n",
    "n = int(input('N: '))\n",
    "print(recursive_sum(n))\n",
    "        "
   ]
  }
 ],
 "metadata": {
  "kernelspec": {
   "display_name": "Python 3 (ipykernel)",
   "language": "python",
   "name": "python3"
  },
  "language_info": {
   "codemirror_mode": {
    "name": "ipython",
    "version": 3
   },
   "file_extension": ".py",
   "mimetype": "text/x-python",
   "name": "python",
   "nbconvert_exporter": "python",
   "pygments_lexer": "ipython3",
   "version": "3.9.7"
  }
 },
 "nbformat": 4,
 "nbformat_minor": 5
}
