{
 "cells": [
  {
   "cell_type": "markdown",
   "id": "f7f65f0e",
   "metadata": {},
   "source": [
    "# Question 26\n",
    "\n",
    "> **_Define a function which can compute the sum of two numbers._**"
   ]
  },
  {
   "cell_type": "code",
   "execution_count": 1,
   "id": "1e76b3b1",
   "metadata": {},
   "outputs": [
    {
     "data": {
      "text/plain": [
       "3"
      ]
     },
     "execution_count": 1,
     "metadata": {},
     "output_type": "execute_result"
    }
   ],
   "source": [
    "def sum_of_2(n1, n2):\n",
    "    '''\n",
    "    Sum of Two Numbers\n",
    "    '''\n",
    "    return n1+n2\n",
    "\n",
    "sum_of_2(1, 2)"
   ]
  },
  {
   "cell_type": "markdown",
   "id": "d5062f60",
   "metadata": {},
   "source": [
    "# Question 27\n",
    "\n",
    "> **_Define a function that can convert a integer into a string and print it in console._**"
   ]
  },
  {
   "cell_type": "code",
   "execution_count": 2,
   "id": "7b65566f",
   "metadata": {},
   "outputs": [
    {
     "name": "stdout",
     "output_type": "stream",
     "text": [
      "5\n"
     ]
    }
   ],
   "source": [
    "def convert_str(num):\n",
    "    print(str(num))\n",
    "\n",
    "convert_str(5)"
   ]
  },
  {
   "cell_type": "markdown",
   "id": "f88b4f28",
   "metadata": {},
   "source": [
    "# Question 28\n",
    "\n",
    "> **_Define a function that can receive two integer numbers in string form and compute their sum and then print it in console._**"
   ]
  },
  {
   "cell_type": "code",
   "execution_count": 3,
   "id": "0cee0b07",
   "metadata": {},
   "outputs": [
    {
     "name": "stdout",
     "output_type": "stream",
     "text": [
      "12\n"
     ]
    }
   ],
   "source": [
    "def sum_str(s1, s2):\n",
    "    t = int(s1) + int(s2)\n",
    "    print(t)\n",
    "    \n",
    "sum_str('5', '7')"
   ]
  },
  {
   "cell_type": "markdown",
   "id": "762b120f",
   "metadata": {},
   "source": [
    "# Question 29\n",
    "\n",
    "> **_Define a function that can accept two strings as input and concatenate them and then print it in console._**"
   ]
  },
  {
   "cell_type": "code",
   "execution_count": 5,
   "id": "be27bf66",
   "metadata": {},
   "outputs": [
    {
     "name": "stdout",
     "output_type": "stream",
     "text": [
      "3 love\n"
     ]
    }
   ],
   "source": [
    "def concat_str(s1, s2):\n",
    "    print(s1+' '+s2)\n",
    "\n",
    "concat_str('3', 'love')"
   ]
  },
  {
   "cell_type": "markdown",
   "id": "840c099b",
   "metadata": {},
   "source": [
    "# Question 30\n",
    "\n",
    "> **_Define a function that can accept two strings as input and print the string with maximum length in console. If two strings have the same length, then the function should print all strings line by line._**"
   ]
  },
  {
   "cell_type": "code",
   "execution_count": 10,
   "id": "ffaf48b7",
   "metadata": {},
   "outputs": [
    {
     "name": "stdout",
     "output_type": "stream",
     "text": [
      "sandeep\n",
      "sandeep\n"
     ]
    }
   ],
   "source": [
    "def print_long(s1, s2):\n",
    "    if len(s1) > len(s2):\n",
    "        print(s1)\n",
    "    elif len(s2) > len(s1):\n",
    "        print(s2)\n",
    "    else:\n",
    "        print(s1+'\\n'+s2)\n",
    "        \n",
    "print_long('sandeep', 'sandeep')"
   ]
  },
  {
   "cell_type": "markdown",
   "id": "a43f81f7",
   "metadata": {},
   "source": [
    "# Question 31\n",
    "\n",
    "> **_Define a function which can print a dictionary where the keys are numbers between 1 and 20 (both included) and the values are square of keys._**\n"
   ]
  },
  {
   "cell_type": "code",
   "execution_count": 15,
   "id": "2bc43d1f",
   "metadata": {},
   "outputs": [
    {
     "name": "stdout",
     "output_type": "stream",
     "text": [
      "{1: 1, 2: 4, 3: 9, 4: 16, 5: 25, 6: 36, 7: 49, 8: 64, 9: 81, 10: 100, 11: 121, 12: 144, 13: 169, 14: 196, 15: 225, 16: 256, 17: 289, 18: 324, 19: 361, 20: 400}\n"
     ]
    }
   ],
   "source": [
    "def print_sq(n):\n",
    "    d = {i:i**2 for i in range(1, n+1)}\n",
    "    print(d)\n",
    "\n",
    "print_sq(20)"
   ]
  },
  {
   "cell_type": "markdown",
   "id": "9b26a67f",
   "metadata": {},
   "source": [
    "# Question 32\n",
    "\n",
    "> **_Define a function which can generate a dictionary where the keys are numbers between 1 and 20 (both included) and the values are square of keys. The function should just print the keys only._**\n"
   ]
  },
  {
   "cell_type": "code",
   "execution_count": 23,
   "id": "7ecb6e24",
   "metadata": {},
   "outputs": [
    {
     "name": "stdout",
     "output_type": "stream",
     "text": [
      "dict_keys([1, 2, 3, 4, 5, 6, 7, 8, 9, 10, 11, 12, 13, 14, 15, 16, 17, 18, 19, 20])\n"
     ]
    }
   ],
   "source": [
    "def print_keys(n):\n",
    "    d = {i:i**2 for i in range(1, n+1)}\n",
    "    print(d.keys())\n",
    "\n",
    "print_keys(20)"
   ]
  },
  {
   "cell_type": "markdown",
   "id": "45352f5f",
   "metadata": {},
   "source": [
    "# Question 33\n",
    "\n",
    "> **_Define a function which can generate and print a list where the values are square of numbers between 1 and 20 (both included)._**\n"
   ]
  },
  {
   "cell_type": "code",
   "execution_count": 24,
   "id": "92dd85ea",
   "metadata": {},
   "outputs": [
    {
     "name": "stdout",
     "output_type": "stream",
     "text": [
      "[1, 4, 9, 16, 25, 36, 49, 64, 81, 100, 121, 144, 169, 196, 225, 256, 289, 324, 361, 400]\n"
     ]
    }
   ],
   "source": [
    "def list_sq(n):\n",
    "    l = [i**2 for i in range(1, n+1)]\n",
    "    print(l)\n",
    "\n",
    "list_sq(20)"
   ]
  },
  {
   "cell_type": "markdown",
   "id": "89b2007d",
   "metadata": {},
   "source": [
    "# Question 34\n",
    "\n",
    "> **_Define a function which can generate a list where the values are square of numbers between 1 and 20 (both included). Then the function needs to print the first 5 elements in the list._**\n"
   ]
  },
  {
   "cell_type": "code",
   "execution_count": 26,
   "id": "8fec41fc",
   "metadata": {},
   "outputs": [
    {
     "name": "stdout",
     "output_type": "stream",
     "text": [
      "[1, 4, 9, 16, 25]\n"
     ]
    }
   ],
   "source": [
    "def list_pr_sq(n):\n",
    "    l = [i**2 for i in range(1, n+1)]\n",
    "    print(l[:5])\n",
    "\n",
    "list_pr_sq(20)"
   ]
  },
  {
   "cell_type": "markdown",
   "id": "6464384a",
   "metadata": {},
   "source": [
    "# Question 35\n",
    "\n",
    "> **_Define a function which can generate a list where the values are square of numbers between 1 and 20 (both included). Then the function needs to print the last 5 elements in the list._**\n"
   ]
  },
  {
   "cell_type": "code",
   "execution_count": 27,
   "id": "c6a3a02b",
   "metadata": {},
   "outputs": [
    {
     "name": "stdout",
     "output_type": "stream",
     "text": [
      "[256, 289, 324, 361, 400]\n"
     ]
    }
   ],
   "source": [
    "def last5_pr_sq(n):\n",
    "    l = [i**2 for i in range(1, n+1)]\n",
    "    print(l[-5:])\n",
    "\n",
    "last5_pr_sq(20)"
   ]
  },
  {
   "cell_type": "markdown",
   "id": "4bfa91c1",
   "metadata": {},
   "source": [
    "# Question 36\n",
    "\n",
    "> **_Define a function which can generate a list where the values are square of numbers between 1 and 20 (both included). Then the function needs to print all values except the first 5 elements in the list._**"
   ]
  },
  {
   "cell_type": "code",
   "execution_count": 28,
   "id": "61811255",
   "metadata": {},
   "outputs": [
    {
     "name": "stdout",
     "output_type": "stream",
     "text": [
      "[36, 49, 64, 81, 100, 121, 144, 169, 196, 225, 256, 289, 324, 361, 400]\n"
     ]
    }
   ],
   "source": [
    "def last15_pr_sq(n):\n",
    "    l = [i**2 for i in range(1, n+1)]\n",
    "    print(l[5:])\n",
    "\n",
    "last15_pr_sq(20)"
   ]
  },
  {
   "cell_type": "markdown",
   "id": "3421e5a7",
   "metadata": {},
   "source": [
    "# Question 37\n",
    "\n",
    "> **_Define a function which can generate and print a tuple where the value are square of numbers between 1 and 20 (both included)._**"
   ]
  },
  {
   "cell_type": "code",
   "execution_count": 33,
   "id": "609e9485",
   "metadata": {},
   "outputs": [
    {
     "name": "stdout",
     "output_type": "stream",
     "text": [
      "(1, 4, 9, 16, 25, 36, 49, 64, 81, 100, 121, 144, 169, 196, 225, 256, 289, 324, 361, 400)\n"
     ]
    }
   ],
   "source": [
    "def tuple_sq(n):\n",
    "    t = tuple([i**2 for i in range(1, n+1)])\n",
    "    print(t)\n",
    "\n",
    "tuple_sq(20)"
   ]
  },
  {
   "cell_type": "markdown",
   "id": "acf5d9b4",
   "metadata": {},
   "source": [
    "# Question 38\n",
    "\n",
    "> **_With a given tuple (1,2,3,4,5,6,7,8,9,10), write a program to print the first half values in one line and the last half values in one line._**\n"
   ]
  },
  {
   "cell_type": "code",
   "execution_count": 36,
   "id": "1a39503e",
   "metadata": {},
   "outputs": [
    {
     "name": "stdout",
     "output_type": "stream",
     "text": [
      "(1, 2, 3, 4, 5, 6)\n",
      "(7, 8, 9, 10, 11, 12)\n"
     ]
    }
   ],
   "source": [
    "def print_div(t):\n",
    "    half = len(t)//2\n",
    "    print(t[:half])\n",
    "    print(t[half:])\n",
    "\n",
    "print_div((1,2,3,4,5,6,7,8,9,10,11, 12))"
   ]
  },
  {
   "cell_type": "markdown",
   "id": "b8555f3b",
   "metadata": {},
   "source": [
    "# Question 39\n",
    "\n",
    "> **_Write a program to generate and print another tuple whose values are even numbers in the given tuple (1,2,3,4,5,6,7,8,9,10)._**\n"
   ]
  },
  {
   "cell_type": "code",
   "execution_count": 37,
   "id": "5d5bcdd8",
   "metadata": {},
   "outputs": [
    {
     "name": "stdout",
     "output_type": "stream",
     "text": [
      "(2, 4, 6, 8, 10)\n"
     ]
    }
   ],
   "source": [
    "check_even = lambda x:not x % 2\n",
    "\n",
    "print(tuple(filter(check_even, (1,2,3,4,5,6,7,8,9,10))))"
   ]
  },
  {
   "cell_type": "markdown",
   "id": "081adb4b",
   "metadata": {},
   "source": [
    "# Question 40\n",
    "\n",
    "> **_Write a program which accepts a string as input to print \"Yes\" if the string is \"yes\" or \"YES\" or \"Yes\", otherwise print \"No\"._**"
   ]
  },
  {
   "cell_type": "code",
   "execution_count": 40,
   "id": "562fd361",
   "metadata": {},
   "outputs": [
    {
     "name": "stdout",
     "output_type": "stream",
     "text": [
      "No\n"
     ]
    }
   ],
   "source": [
    "def print_yes(s):\n",
    "    if s.upper() == 'YES':\n",
    "        print('Yes')\n",
    "    else:\n",
    "        print('No')\n",
    "\n",
    "print_yes('Sandeep')"
   ]
  },
  {
   "cell_type": "markdown",
   "id": "2b95d269",
   "metadata": {},
   "source": [
    "# Question 41\n",
    "\n",
    "> **_Write a program which can map() to make a list whose elements are square of elements in [1,2,3,4,5,6,7,8,9,10]._**\n"
   ]
  },
  {
   "cell_type": "code",
   "execution_count": 41,
   "id": "b51289d6",
   "metadata": {},
   "outputs": [
    {
     "name": "stdout",
     "output_type": "stream",
     "text": [
      "[1, 4, 9, 16, 25, 36, 49, 64, 81, 100]\n"
     ]
    }
   ],
   "source": [
    "sq = lambda x:x**2\n",
    "\n",
    "print(list(map(sq, [1,2,3,4,5,6,7,8,9,10])))"
   ]
  },
  {
   "cell_type": "markdown",
   "id": "115d71eb",
   "metadata": {},
   "source": [
    "# Question 42\n",
    "\n",
    "> **_Write a program which can map() and filter() to make a list whose elements are square of even number in [1,2,3,4,5,6,7,8,9,10]._**\n"
   ]
  },
  {
   "cell_type": "code",
   "execution_count": 44,
   "id": "52ded99b",
   "metadata": {},
   "outputs": [
    {
     "name": "stdout",
     "output_type": "stream",
     "text": [
      "[4, 16, 36, 64, 100]\n"
     ]
    }
   ],
   "source": [
    "sq = lambda x:x**2\n",
    "even = lambda x:not x % 2\n",
    "\n",
    "print(list(map(sq, filter(even, [1,2,3,4,5,6,7,8,9,10]))))"
   ]
  },
  {
   "cell_type": "markdown",
   "id": "b3d8b496",
   "metadata": {},
   "source": [
    "# Question 43\n",
    "\n",
    "> **_Write a program which can filter() to make a list whose elements are even number between 1 and 20 (both included)._**\n"
   ]
  },
  {
   "cell_type": "code",
   "execution_count": 49,
   "id": "bc85866d",
   "metadata": {},
   "outputs": [
    {
     "name": "stdout",
     "output_type": "stream",
     "text": [
      "[2, 4, 6, 8, 10, 12, 14, 16, 18, 20]\n"
     ]
    }
   ],
   "source": [
    "even = lambda x:not x % 2\n",
    "even_nos =  filter(even, range(1, 21))\n",
    "print(list(even_nos))"
   ]
  },
  {
   "cell_type": "markdown",
   "id": "18d07bc6",
   "metadata": {},
   "source": [
    "# Question 44\n",
    "\n",
    "> **_Write a program which can map() to make a list whose elements are square of numbers between 1 and 20 (both included)._**\n"
   ]
  },
  {
   "cell_type": "code",
   "execution_count": 50,
   "id": "f4dd59b7",
   "metadata": {},
   "outputs": [
    {
     "name": "stdout",
     "output_type": "stream",
     "text": [
      "[1, 4, 9, 16, 25, 36, 49, 64, 81, 100, 121, 144, 169, 196, 225, 256, 289, 324, 361, 400]\n"
     ]
    }
   ],
   "source": [
    "sq = lambda x:x**2\n",
    "\n",
    "print(list(map(sq, range(1, 21))))"
   ]
  },
  {
   "cell_type": "markdown",
   "id": "a79a1aa8",
   "metadata": {},
   "source": [
    "# Question 45\n",
    "\n",
    "> **_Define a class named American which has a static method called printNationality._**"
   ]
  },
  {
   "cell_type": "code",
   "execution_count": 60,
   "id": "57dc4312",
   "metadata": {},
   "outputs": [
    {
     "name": "stdout",
     "output_type": "stream",
     "text": [
      "I am American\n",
      "I am American\n",
      "I am American\n",
      "I am American\n",
      "I am American from NY\n"
     ]
    }
   ],
   "source": [
    "class American():\n",
    "    nationality = 'American'\n",
    "    def __init__(self, state):\n",
    "        self.nationality = 'American'\n",
    "        self.state = state\n",
    "    def printNationalityState(self):\n",
    "        print(f'I am {self.nationality} from {self.state}')\n",
    "        \n",
    "    @classmethod\n",
    "    def printNationalityCls(cls):\n",
    "        print(f'I am {cls.nationality}')\n",
    "        \n",
    "    @staticmethod\n",
    "    def printNationality():\n",
    "        print('I am American')\n",
    "        \n",
    "eddie = American('NY')\n",
    "American.printNationality()\n",
    "American.printNationalityCls()\n",
    "eddie.printNationality()\n",
    "eddie.printNationalityCls()\n",
    "eddie.printNationalityState()\n"
   ]
  },
  {
   "cell_type": "markdown",
   "id": "467512d6",
   "metadata": {},
   "source": [
    "# Question 46\n",
    "\n",
    "> **_Define a class named American and its subclass NewYorker._**\n"
   ]
  },
  {
   "cell_type": "code",
   "execution_count": 63,
   "id": "7169f674",
   "metadata": {},
   "outputs": [
    {
     "name": "stdout",
     "output_type": "stream",
     "text": [
      "I am American\n",
      "My state is New York\n",
      "[<class '__main__.NewYorker'>, <class '__main__.American'>, <class 'object'>]\n"
     ]
    }
   ],
   "source": [
    "class American():\n",
    "    nationality = 'American'\n",
    "    def __init__(self):\n",
    "        self.nationality = 'American'\n",
    "        \n",
    "    def printNation(self):\n",
    "        print(f'I am {self.nationality}')\n",
    "        \n",
    "    @classmethod\n",
    "    def printNationalityCls(cls):\n",
    "        print(f'I am {cls.nationality}')\n",
    "        \n",
    "    @staticmethod\n",
    "    def printNationality():\n",
    "        print('I am American')\n",
    "        \n",
    "class NewYorker(American):\n",
    "    def __init__(self):\n",
    "        super().__init__()\n",
    "        self.state = 'New York'\n",
    "        \n",
    "    def printState(self):\n",
    "        super().printNation()\n",
    "        print(f'My state is {self.state}')\n",
    "        \n",
    "eddie = NewYorker()\n",
    "eddie.printState()\n",
    "print(NewYorker.mro())"
   ]
  }
 ],
 "metadata": {
  "kernelspec": {
   "display_name": "Python 3 (ipykernel)",
   "language": "python",
   "name": "python3"
  },
  "language_info": {
   "codemirror_mode": {
    "name": "ipython",
    "version": 3
   },
   "file_extension": ".py",
   "mimetype": "text/x-python",
   "name": "python",
   "nbconvert_exporter": "python",
   "pygments_lexer": "ipython3",
   "version": "3.9.7"
  }
 },
 "nbformat": 4,
 "nbformat_minor": 5
}
