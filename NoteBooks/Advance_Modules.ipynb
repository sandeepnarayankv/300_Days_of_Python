{
 "cells": [
  {
   "cell_type": "code",
   "execution_count": 9,
   "id": "11c33e68",
   "metadata": {},
   "outputs": [
    {
     "name": "stdout",
     "output_type": "stream",
     "text": [
      "Counter({'b': 4, 'c': 4, 'e': 4, 'C': 4, 'a': 3, 'D': 3})\n",
      "['a', 'b', 'c', 'D', 'e', 'C']\n",
      "{'a': 3, 'b': 4, 'c': 4, 'D': 3, 'e': 4, 'C': 4}\n"
     ]
    },
    {
     "data": {
      "text/plain": [
       "[('b', 4), ('c', 4)]"
      ]
     },
     "execution_count": 9,
     "metadata": {},
     "output_type": "execute_result"
    }
   ],
   "source": [
    "#Collections --> Counter\n",
    "from collections import Counter\n",
    "cnt = Counter('aaabbbbccccDDDeeeeCCCC')\n",
    "print(cnt)\n",
    "print(list(cnt))\n",
    "print(dict(cnt))\n",
    "cnt.most_common(2)"
   ]
  },
  {
   "cell_type": "code",
   "execution_count": 20,
   "id": "286b0591",
   "metadata": {},
   "outputs": [],
   "source": [
    "#Collections --> defaultdict\n",
    "from collections import defaultdict\n",
    "d = {'a': 10, 'b': 5}"
   ]
  },
  {
   "cell_type": "code",
   "execution_count": 21,
   "id": "2b0e4661",
   "metadata": {},
   "outputs": [
    {
     "ename": "KeyError",
     "evalue": "'c'",
     "output_type": "error",
     "traceback": [
      "\u001b[0;31m---------------------------------------------------------------------------\u001b[0m",
      "\u001b[0;31mKeyError\u001b[0m                                  Traceback (most recent call last)",
      "Input \u001b[0;32mIn [21]\u001b[0m, in \u001b[0;36m<module>\u001b[0;34m\u001b[0m\n\u001b[0;32m----> 1\u001b[0m \u001b[43md\u001b[49m\u001b[43m[\u001b[49m\u001b[38;5;124;43m'\u001b[39;49m\u001b[38;5;124;43mc\u001b[39;49m\u001b[38;5;124;43m'\u001b[39;49m\u001b[43m]\u001b[49m\n",
      "\u001b[0;31mKeyError\u001b[0m: 'c'"
     ]
    }
   ],
   "source": [
    "d['c']"
   ]
  },
  {
   "cell_type": "code",
   "execution_count": 22,
   "id": "30941360",
   "metadata": {},
   "outputs": [],
   "source": [
    "d = defaultdict(lambda : 0)\n",
    "d['a'] = 10\n",
    "d['b'] = 5"
   ]
  },
  {
   "cell_type": "code",
   "execution_count": 23,
   "id": "9f03952c",
   "metadata": {},
   "outputs": [
    {
     "data": {
      "text/plain": [
       "0"
      ]
     },
     "execution_count": 23,
     "metadata": {},
     "output_type": "execute_result"
    }
   ],
   "source": [
    "d['c']"
   ]
  },
  {
   "cell_type": "code",
   "execution_count": 24,
   "id": "763a2c93",
   "metadata": {},
   "outputs": [
    {
     "data": {
      "text/plain": [
       "defaultdict(<function __main__.<lambda>()>, {'a': 10, 'b': 5, 'c': 0})"
      ]
     },
     "execution_count": 24,
     "metadata": {},
     "output_type": "execute_result"
    }
   ],
   "source": [
    "d"
   ]
  },
  {
   "cell_type": "code",
   "execution_count": 25,
   "id": "16e4b4da",
   "metadata": {},
   "outputs": [],
   "source": [
    "myt = (10, 20, 30)"
   ]
  },
  {
   "cell_type": "code",
   "execution_count": 26,
   "id": "1013354a",
   "metadata": {},
   "outputs": [
    {
     "data": {
      "text/plain": [
       "10"
      ]
     },
     "execution_count": 26,
     "metadata": {},
     "output_type": "execute_result"
    }
   ],
   "source": [
    "myt[0]"
   ]
  },
  {
   "cell_type": "code",
   "execution_count": 27,
   "id": "13b9b5c9",
   "metadata": {},
   "outputs": [],
   "source": [
    "#Collections --> namedtuple\n",
    "from collections import namedtuple"
   ]
  },
  {
   "cell_type": "code",
   "execution_count": 29,
   "id": "25b9d09a",
   "metadata": {},
   "outputs": [],
   "source": [
    "Dog = namedtuple('Dog', ['age', 'breed', 'name'])"
   ]
  },
  {
   "cell_type": "code",
   "execution_count": 31,
   "id": "508bddff",
   "metadata": {},
   "outputs": [],
   "source": [
    "sammy = Dog(age = 5, breed = 'Lab', name = 'Tommy')"
   ]
  },
  {
   "cell_type": "code",
   "execution_count": 32,
   "id": "45c33d37",
   "metadata": {},
   "outputs": [
    {
     "data": {
      "text/plain": [
       "Dog(age=5, breed='Lab', name='Tommy')"
      ]
     },
     "execution_count": 32,
     "metadata": {},
     "output_type": "execute_result"
    }
   ],
   "source": [
    "sammy"
   ]
  },
  {
   "cell_type": "code",
   "execution_count": 33,
   "id": "caedc6f1",
   "metadata": {},
   "outputs": [
    {
     "data": {
      "text/plain": [
       "5"
      ]
     },
     "execution_count": 33,
     "metadata": {},
     "output_type": "execute_result"
    }
   ],
   "source": [
    "sammy.age"
   ]
  },
  {
   "cell_type": "code",
   "execution_count": 36,
   "id": "f79b16d8",
   "metadata": {},
   "outputs": [],
   "source": [
    "# OS Module\n",
    "import os"
   ]
  },
  {
   "cell_type": "code",
   "execution_count": 50,
   "id": "7fb65ae0",
   "metadata": {},
   "outputs": [
    {
     "name": "stdout",
     "output_type": "stream",
     "text": [
      "b'/home/pi/jupyter_home'\n",
      "/home/pi/jupyter_home\n",
      "4\n"
     ]
    }
   ],
   "source": [
    "print(os.getcwdb())\n",
    "print(os.getcwd())\n",
    "print(os.cpu_count())"
   ]
  },
  {
   "cell_type": "code",
   "execution_count": 51,
   "id": "c51e3424",
   "metadata": {},
   "outputs": [],
   "source": [
    "#shutil\n",
    "import shutil"
   ]
  },
  {
   "cell_type": "code",
   "execution_count": 52,
   "id": "633cadb7",
   "metadata": {},
   "outputs": [
    {
     "data": {
      "text/plain": [
       "'/home/pi/venv/bin/python3'"
      ]
     },
     "execution_count": 52,
     "metadata": {},
     "output_type": "execute_result"
    }
   ],
   "source": [
    "shutil.which('python3')"
   ]
  },
  {
   "cell_type": "code",
   "execution_count": 53,
   "id": "0ccd3589",
   "metadata": {},
   "outputs": [],
   "source": [
    "# DateTime\n",
    "import datetime"
   ]
  },
  {
   "cell_type": "code",
   "execution_count": 60,
   "id": "ed849861",
   "metadata": {},
   "outputs": [
    {
     "name": "stdout",
     "output_type": "stream",
     "text": [
      "2022-02-14 15:08:42.821502\n"
     ]
    }
   ],
   "source": [
    "print(datetime.datetime.now())"
   ]
  },
  {
   "cell_type": "code",
   "execution_count": 61,
   "id": "7ecf64c7",
   "metadata": {},
   "outputs": [],
   "source": [
    "# Python Debugger\n",
    "import pdb"
   ]
  },
  {
   "cell_type": "code",
   "execution_count": 62,
   "id": "f18cc25f",
   "metadata": {},
   "outputs": [],
   "source": [
    "# Regular Expressions\n",
    "import re"
   ]
  },
  {
   "cell_type": "code",
   "execution_count": 82,
   "id": "41895534",
   "metadata": {},
   "outputs": [],
   "source": [
    "text = 'The agents phone number is (123)-778-8888. Please call'\n",
    "pattern = r\"\\(\\d{3}\\)-\\d{3}-\\d{4}\""
   ]
  },
  {
   "cell_type": "code",
   "execution_count": 83,
   "id": "907255b5",
   "metadata": {},
   "outputs": [
    {
     "data": {
      "text/plain": [
       "['(123)-778-8888']"
      ]
     },
     "execution_count": 83,
     "metadata": {},
     "output_type": "execute_result"
    }
   ],
   "source": [
    "re.findall(pattern, text)"
   ]
  },
  {
   "cell_type": "code",
   "execution_count": 99,
   "id": "c3dd4b46",
   "metadata": {},
   "outputs": [],
   "source": [
    "text = 'The agents phone number is (123)-778-8888. Please call'\n",
    "compiled_pattern = re.compile(r\"(\\(\\d{3}\\))-(\\d{3})-(\\d{4})\")"
   ]
  },
  {
   "cell_type": "code",
   "execution_count": 100,
   "id": "15da2554",
   "metadata": {},
   "outputs": [
    {
     "data": {
      "text/plain": [
       "'(123)-778-8888'"
      ]
     },
     "execution_count": 100,
     "metadata": {},
     "output_type": "execute_result"
    }
   ],
   "source": [
    "results = re.search(compiled_pattern, text)\n",
    "results.group()"
   ]
  },
  {
   "cell_type": "code",
   "execution_count": 103,
   "id": "ee2b4f0a",
   "metadata": {},
   "outputs": [
    {
     "data": {
      "text/plain": [
       "['demo.ipynb',\n",
       " 'file2.txt',\n",
       " 'file1.txt',\n",
       " 'Advance_Modules.ipynb',\n",
       " 'WarCardGame.ipynb',\n",
       " '2520.ipynb',\n",
       " '.ipynb_checkpoints',\n",
       " 'send_email.ipynb']"
      ]
     },
     "execution_count": 103,
     "metadata": {},
     "output_type": "execute_result"
    }
   ],
   "source": [
    "# Zip Operations\n",
    "import zipfile\n",
    "with open('file1.txt', 'w') as f:\n",
    "    f.write('File One')\n",
    "with open('file2.txt', 'w') as f:\n",
    "    f.write('File Two')\n",
    "\n",
    "os.listdir()"
   ]
  },
  {
   "cell_type": "code",
   "execution_count": 104,
   "id": "db797295",
   "metadata": {},
   "outputs": [],
   "source": [
    "new_zip = zipfile.ZipFile('zip_file.zip', 'w')\n",
    "new_zip.write('file1.txt', compress_type=zipfile.ZIP_DEFLATED)\n",
    "new_zip.write('file2.txt', compress_type=zipfile.ZIP_DEFLATED)\n",
    "new_zip.close()"
   ]
  },
  {
   "cell_type": "code",
   "execution_count": 105,
   "id": "0799bc8d",
   "metadata": {},
   "outputs": [
    {
     "data": {
      "text/plain": [
       "['demo.ipynb',\n",
       " 'zip_file.zip',\n",
       " 'file2.txt',\n",
       " 'file1.txt',\n",
       " 'Advance_Modules.ipynb',\n",
       " 'WarCardGame.ipynb',\n",
       " '2520.ipynb',\n",
       " '.ipynb_checkpoints',\n",
       " 'send_email.ipynb']"
      ]
     },
     "execution_count": 105,
     "metadata": {},
     "output_type": "execute_result"
    }
   ],
   "source": [
    "os.listdir()"
   ]
  },
  {
   "cell_type": "code",
   "execution_count": 108,
   "id": "1331844e",
   "metadata": {},
   "outputs": [],
   "source": [
    "# unzip\n",
    "zip_obj = zipfile.ZipFile('zip_file.zip', 'r')\n",
    "zip_obj.extractall('extracted')"
   ]
  },
  {
   "cell_type": "code",
   "execution_count": 109,
   "id": "aa2c9f56",
   "metadata": {},
   "outputs": [
    {
     "data": {
      "text/plain": [
       "['demo.ipynb',\n",
       " 'zip_file.zip',\n",
       " 'file2.txt',\n",
       " 'file1.txt',\n",
       " 'Advance_Modules.ipynb',\n",
       " 'WarCardGame.ipynb',\n",
       " 'extracted',\n",
       " '2520.ipynb',\n",
       " '.ipynb_checkpoints',\n",
       " 'send_email.ipynb']"
      ]
     },
     "execution_count": 109,
     "metadata": {},
     "output_type": "execute_result"
    }
   ],
   "source": [
    "os.listdir()"
   ]
  },
  {
   "cell_type": "code",
   "execution_count": 125,
   "id": "7d6fa47d",
   "metadata": {},
   "outputs": [
    {
     "name": "stdout",
     "output_type": "stream",
     "text": [
      "/home/pi/jupyter_home\n",
      "['demo.ipynb', 'example.zip.zip', 'zip_file.zip', 'file2.txt', 'file1.txt', 'Advance_Modules.ipynb', 'WarCardGame.ipynb', '2520.ipynb', 'example.zip', 'send_email.ipynb']\n",
      "/home/pi/jupyter_home/example\n",
      "['file2.txt', 'file1.txt']\n",
      "/home/pi/jupyter_home/extracted\n",
      "['file2.txt', 'file1.txt']\n",
      "/home/pi/jupyter_home/.ipynb_checkpoints\n",
      "['send_email-checkpoint.ipynb', 'demo-checkpoint.ipynb', '2520-checkpoint.ipynb', 'WarCardGame-checkpoint.ipynb', 'Advance_Modules-checkpoint.ipynb']\n"
     ]
    }
   ],
   "source": [
    "for root, dirs, files in os.walk(os.getcwd()):\n",
    "    print(root)\n",
    "    print(files)"
   ]
  },
  {
   "cell_type": "code",
   "execution_count": 116,
   "id": "792efd06",
   "metadata": {},
   "outputs": [],
   "source": [
    "import shutil"
   ]
  },
  {
   "cell_type": "code",
   "execution_count": 117,
   "id": "2957301b",
   "metadata": {},
   "outputs": [
    {
     "name": "stdout",
     "output_type": "stream",
     "text": [
      "/home/pi/jupyter_home\n"
     ]
    }
   ],
   "source": [
    "print(os.getcwd())"
   ]
  },
  {
   "cell_type": "code",
   "execution_count": 119,
   "id": "a1893600",
   "metadata": {},
   "outputs": [
    {
     "data": {
      "text/plain": [
       "'/home/pi/jupyter_home/example.zip'"
      ]
     },
     "execution_count": 119,
     "metadata": {},
     "output_type": "execute_result"
    }
   ],
   "source": [
    "dir_to_zip = '/home/pi/jupyter_home/extracted'\n",
    "op_file = 'example'\n",
    "shutil.make_archive(op_file, 'zip', dir_to_zip)"
   ]
  },
  {
   "cell_type": "code",
   "execution_count": 120,
   "id": "c4801f92",
   "metadata": {},
   "outputs": [
    {
     "data": {
      "text/plain": [
       "['demo.ipynb',\n",
       " 'example.zip.zip',\n",
       " 'zip_file.zip',\n",
       " 'file2.txt',\n",
       " 'file1.txt',\n",
       " 'Advance_Modules.ipynb',\n",
       " 'WarCardGame.ipynb',\n",
       " 'extracted',\n",
       " '2520.ipynb',\n",
       " 'example.zip',\n",
       " '.ipynb_checkpoints',\n",
       " 'send_email.ipynb']"
      ]
     },
     "execution_count": 120,
     "metadata": {},
     "output_type": "execute_result"
    }
   ],
   "source": [
    "os.listdir()"
   ]
  },
  {
   "cell_type": "code",
   "execution_count": 123,
   "id": "16655cc5",
   "metadata": {},
   "outputs": [],
   "source": [
    "shutil.unpack_archive('example.zip', '/home/pi/jupyter_home/example')"
   ]
  },
  {
   "cell_type": "code",
   "execution_count": 124,
   "id": "7f1d7e0d",
   "metadata": {},
   "outputs": [
    {
     "data": {
      "text/plain": [
       "['demo.ipynb',\n",
       " 'example.zip.zip',\n",
       " 'zip_file.zip',\n",
       " 'file2.txt',\n",
       " 'file1.txt',\n",
       " 'Advance_Modules.ipynb',\n",
       " 'WarCardGame.ipynb',\n",
       " 'example',\n",
       " 'extracted',\n",
       " '2520.ipynb',\n",
       " 'example.zip',\n",
       " '.ipynb_checkpoints',\n",
       " 'send_email.ipynb']"
      ]
     },
     "execution_count": 124,
     "metadata": {},
     "output_type": "execute_result"
    }
   ],
   "source": [
    "os.listdir()"
   ]
  },
  {
   "cell_type": "code",
   "execution_count": 126,
   "id": "6edcb342",
   "metadata": {},
   "outputs": [
    {
     "name": "stdout",
     "output_type": "stream",
     "text": [
      "/home/pi/jupyter_home\n",
      "['demo.ipynb', 'example.zip.zip', 'zip_file.zip', 'file2.txt', 'file1.txt', 'Advance_Modules.ipynb', 'WarCardGame.ipynb', '2520.ipynb', 'example.zip', 'send_email.ipynb']\n",
      "/home/pi/jupyter_home/example\n",
      "['file2.txt', 'file1.txt']\n",
      "/home/pi/jupyter_home/extracted\n",
      "['file2.txt', 'file1.txt']\n",
      "/home/pi/jupyter_home/.ipynb_checkpoints\n",
      "['send_email-checkpoint.ipynb', 'demo-checkpoint.ipynb', '2520-checkpoint.ipynb', 'WarCardGame-checkpoint.ipynb', 'Advance_Modules-checkpoint.ipynb']\n"
     ]
    }
   ],
   "source": [
    "for root, dirs, files in os.walk(os.getcwd()):\n",
    "    print(root)\n",
    "    print(files)"
   ]
  },
  {
   "cell_type": "code",
   "execution_count": null,
   "id": "0a81d583",
   "metadata": {},
   "outputs": [],
   "source": []
  }
 ],
 "metadata": {
  "kernelspec": {
   "display_name": "Python 3 (ipykernel)",
   "language": "python",
   "name": "python3"
  },
  "language_info": {
   "codemirror_mode": {
    "name": "ipython",
    "version": 3
   },
   "file_extension": ".py",
   "mimetype": "text/x-python",
   "name": "python",
   "nbconvert_exporter": "python",
   "pygments_lexer": "ipython3",
   "version": "3.9.2"
  }
 },
 "nbformat": 4,
 "nbformat_minor": 5
}
